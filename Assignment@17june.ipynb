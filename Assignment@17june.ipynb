{
 "cells": [
  {
   "cell_type": "markdown",
   "id": "3494873d",
   "metadata": {},
   "source": [
    "## Q-1. What is the role of try and exception block?\n",
    "\n",
    "#### ANS-1\n",
    "\n",
    "    The try and except blocks are used in Python for error handling and exception handling. They allow you to catch and handle exceptions that may occur during the execution of your code.\n",
    "\n",
    "    The try block is used to enclose the code that you want to monitor for exceptions. If an exception occurs within the try block, the execution is immediately transferred to the corresponding except block.\n",
    "\n",
    "    The except block specifies the type of exception you want to catch and handle. If an exception of the specified type occurs within the try block, the code inside the corresponding except block is executed. You can have multiple except blocks to handle different types of exceptions.\n",
    "    \n",
    "    \n",
    "## Q-2.What is the syntax for a basic try-except block?\n",
    "\n",
    "#### ANS-2\n",
    "\n",
    "    The syntax of basic try-except block is like,\n",
    "\n",
    "    try:\n",
    "    # Code that may raise an exception\n",
    "    # ...\n",
    "    except ExceptionType:\n",
    "    # Code to handle the exception\n",
    "    # ...\n",
    "\n",
    "\n",
    "## Q-3.What happens if an exception occurs inside a try block and there is no matching except block?\n",
    "\n",
    "#### ANS-3\n",
    "\n",
    "    If an exception occurs inside a try block and there is no matching except block to handle that specific exception, the program will terminate, and an error message known as an unhandled exception traceback will be displayed. The traceback provides information about the type of exception, the line of code where the exception occurred, and the sequence of function calls leading to the exception.\n",
    "    \n",
    "## Q-4.What is the difference between using a bare except block and specifying a specific exception type?\n",
    "\n",
    "#### ANS-4\n",
    "\n",
    "    Bare except block:\n",
    "    \n",
    "    In a bare except block, you do not specify any particular exception type after the except keyword. This means that the  block will catch and handle any exception that occurs within the corresponding try block, regardless of the type of the       exception. This can be dangerous because it makes it harder to identify and handle specific errors properly.\n",
    "    \n",
    "    Specifying a specific exception type:\n",
    "    In this case, you specify a specific exception type after the except keyword. If the corresponding try block raises        an exception of that particular type (or a subclass of it), the associated except block will be executed.This allows you to handle different types of exceptions differently and provide more targeted error handling.\n",
    "    \n",
    "## Q-5.Can you have nested try-except blocks in Python? If yes, then give an example.\n",
    "\n",
    "        Yes, you can have nested try-except blocks in Python. This allows you to handle exceptions at different levels of code execution. "
   ]
  },
  {
   "cell_type": "code",
   "execution_count": 1,
   "id": "8863f10d",
   "metadata": {},
   "outputs": [
    {
     "name": "stdout",
     "output_type": "stream",
     "text": [
      "Enter the numerator: 17\n",
      "Enter the denominator: 0\n",
      "Error: Cannot divide by zero\n"
     ]
    }
   ],
   "source": [
    "try:\n",
    "    \n",
    "    numerator = int(input(\"Enter the numerator: \"))\n",
    "    denominator = int(input(\"Enter the denominator: \"))\n",
    "    \n",
    "    try:\n",
    "        \n",
    "        result = numerator / denominator\n",
    "        print(\"Result:\", result)\n",
    "    except ZeroDivisionError:\n",
    "        print(\"Error: Cannot divide by zero\")\n",
    "        \n",
    "except ValueError:\n",
    "    print(\"Error: Invalid input\")\n"
   ]
  },
  {
   "cell_type": "markdown",
   "id": "7195c8ff",
   "metadata": {},
   "source": [
    "## Q-6. Can we use multiple exception blocks, if yes then give an example.\n",
    "\n",
    "#### ANS-6\n",
    "\n",
    "    Yes, you can use multiple except blocks to handle different types of exceptions separately. This allows you to specify \n",
    "    different handling logic based on the type of exception that occurs.\n",
    "    \n",
    "    For example,"
   ]
  },
  {
   "cell_type": "code",
   "execution_count": 3,
   "id": "bd1f1cc1",
   "metadata": {},
   "outputs": [
    {
     "name": "stdout",
     "output_type": "stream",
     "text": [
      "Enter the first number: 34\n",
      "Enter the second number: 0\n",
      "Error: Cannot divide by zero.\n"
     ]
    }
   ],
   "source": [
    "try:\n",
    "    num1 = int(input(\"Enter the first number: \"))\n",
    "    num2 = int(input(\"Enter the second number: \"))\n",
    "    result = num1 / num2\n",
    "    print(\"Result:\", result)\n",
    "\n",
    "except ValueError:\n",
    "    print(\"Error: Invalid input. Please enter a valid integer.\")\n",
    "\n",
    "except ZeroDivisionError:\n",
    "    print(\"Error: Cannot divide by zero.\")\n",
    "\n",
    "except Exception as e:\n",
    "    print(\"Error:\", str(e))\n"
   ]
  },
  {
   "cell_type": "markdown",
   "id": "a65dbe34",
   "metadata": {},
   "source": [
    "## Q-7. Write the reason due to which following errors are raised:\n",
    "    a. EOFError\n",
    "    b. FloatingPointError\n",
    "    c. IndexError\n",
    "    d. MemoryError\n",
    "    e. OverflowError\n",
    "    f. TabError\n",
    "    g. ValueError"
   ]
  },
  {
   "cell_type": "markdown",
   "id": "12320652",
   "metadata": {},
   "source": [
    "#### ANS-7\n",
    "\n",
    "    a. EOFError: Raised when trying to read input but the end of the file is reached.\n",
    "    \n",
    "    b. FloatingPointError: Raised when a floating-point operation encounters an exceptional condition.\n",
    "    \n",
    "    c. IndexError: Raised when trying to access an index that is out of range.\n",
    "    \n",
    "    d. MemoryError: Raised when an operation fails to allocate enough memory.\n",
    "    \n",
    "    e. OverflowError: Raised when a mathematical operation exceeds the maximum representable value.\n",
    "    \n",
    "    f. TabError: Raised when there is an issue with the indentation in Python code.\n",
    "    \n",
    "    g. ValueError: Raised when a function receives an argument of the correct type but with an invalid value."
   ]
  },
  {
   "cell_type": "markdown",
   "id": "1962f5d1",
   "metadata": {},
   "source": [
    "## Q-8.Write code for the following given scenario and add try-exception block to it.\n",
    "    a. Program to divide two numbers\n",
    "    b. Program to convert a string to an integer\n",
    "    c. Program to access an element in a list\n",
    "    d. Program to handle a specific exception\n",
    "    e. Program to handle any exception\n",
    "    \n",
    "#### ANS-8\n",
    "\n",
    "    a. Program to divide two numbers:"
   ]
  },
  {
   "cell_type": "code",
   "execution_count": 36,
   "id": "d7157045",
   "metadata": {},
   "outputs": [
    {
     "name": "stdout",
     "output_type": "stream",
     "text": [
      "Enter the numerator: 393\n",
      "Enter the denominator: 0\n",
      "Error: Cannot divide by zero.\n"
     ]
    }
   ],
   "source": [
    "try:\n",
    "    numerator = float(input(\"Enter the numerator: \"))\n",
    "    denominator = float(input(\"Enter the denominator: \"))\n",
    "    result = numerator / denominator\n",
    "    print(\"Result:\", result)\n",
    "except ZeroDivisionError:\n",
    "    print(\"Error: Cannot divide by zero.\")\n"
   ]
  },
  {
   "cell_type": "markdown",
   "id": "bd2dff58",
   "metadata": {},
   "source": [
    "        b.Program to convert a string to an integer"
   ]
  },
  {
   "cell_type": "code",
   "execution_count": 45,
   "id": "aaf6ce22",
   "metadata": {},
   "outputs": [
    {
     "name": "stdout",
     "output_type": "stream",
     "text": [
      "Enter a number: 8\n",
      "Number: 94\n"
     ]
    }
   ],
   "source": [
    "try:\n",
    "    a_string= input(\"Enter a number: \")\n",
    "    num = int(string_num)\n",
    "    print(\"Number:\", num)\n",
    "except ValueError:\n",
    "    print(\"Error: Invalid input. Please enter a valid integer.\")\n",
    "\n"
   ]
  },
  {
   "cell_type": "markdown",
   "id": "608e27cb",
   "metadata": {},
   "source": [
    "    c. Program to access an element in a list"
   ]
  },
  {
   "cell_type": "code",
   "execution_count": 50,
   "id": "bd213151",
   "metadata": {},
   "outputs": [
    {
     "name": "stdout",
     "output_type": "stream",
     "text": [
      "Enter the index: 4\n",
      "Element at index 4 : 5\n"
     ]
    }
   ],
   "source": [
    "my_list = [1, 2, 3, 4, 5]\n",
    "try:\n",
    "    index = int(input(\"Enter the index: \"))\n",
    "    element = my_list[index]\n",
    "    print(\"Element at index\", index, \":\", element)\n",
    "except IndexError:\n",
    "    print(\"Index is out of range.\")\n",
    "except ValueError:\n",
    "    print(\"Invalid input. Please enter a valid integer index.\")\n"
   ]
  },
  {
   "cell_type": "markdown",
   "id": "00fa4a0f",
   "metadata": {},
   "source": [
    "    d.Program to handle a specific exception"
   ]
  },
  {
   "cell_type": "code",
   "execution_count": 51,
   "id": "eb863867",
   "metadata": {},
   "outputs": [
    {
     "name": "stdout",
     "output_type": "stream",
     "text": [
      "Enter a number: 43\n",
      "Number: 43\n"
     ]
    }
   ],
   "source": [
    "try:\n",
    "    string_num = input(\"Enter a number: \")\n",
    "    num = int(string_num)\n",
    "    print(\"Number:\", num)\n",
    "except ValueError: # this valueError is specific ,specific exceptions can be replaced \n",
    "    print(\"Error: Invalid input. Please enter a valid integer.\")\n",
    "\n",
    "    "
   ]
  },
  {
   "cell_type": "markdown",
   "id": "d9f73655",
   "metadata": {},
   "source": [
    "    e. Program to handle any exception"
   ]
  },
  {
   "cell_type": "code",
   "execution_count": 52,
   "id": "70f81402",
   "metadata": {},
   "outputs": [
    {
     "name": "stdout",
     "output_type": "stream",
     "text": [
      "Enter a number: we\n",
      "An exception occurred: invalid literal for int() with base 10: 'we'\n"
     ]
    }
   ],
   "source": [
    "try:\n",
    "  \n",
    "    num = int(input(\"Enter a number: \"))\n",
    "    result = 10 / num\n",
    "    print(\"Result:\", result)\n",
    "except Exception as e:\n",
    "    print(\"An exception occurred:\", str(e))\n",
    "\n"
   ]
  },
  {
   "cell_type": "markdown",
   "id": "7aa82e6c",
   "metadata": {},
   "source": [
    "# THANK YOU!"
   ]
  }
 ],
 "metadata": {
  "kernelspec": {
   "display_name": "Python 3 (ipykernel)",
   "language": "python",
   "name": "python3"
  },
  "language_info": {
   "codemirror_mode": {
    "name": "ipython",
    "version": 3
   },
   "file_extension": ".py",
   "mimetype": "text/x-python",
   "name": "python",
   "nbconvert_exporter": "python",
   "pygments_lexer": "ipython3",
   "version": "3.9.12"
  }
 },
 "nbformat": 4,
 "nbformat_minor": 5
}
