{
 "cells": [
  {
   "cell_type": "markdown",
   "id": "9a2aba4c",
   "metadata": {},
   "source": [
    "# ASSINMENT-4\n",
    "\n",
    "\n",
    "## Q-1. What exactly is []?\n",
    "\n",
    "#### ANS-1\n",
    "\n",
    "        [] is an empty list literal. It represents an empty list, which is a mutable data structure that can hold an ordered collection of elements."
   ]
  },
  {
   "cell_type": "markdown",
   "id": "f047d115",
   "metadata": {},
   "source": [
    "## Q-2.In a list of values stored in a variable called spam, how would you assign the value &#39;hello&#39; as the third value? (Assume [2, 4, 6, 8, 10] are in spam.)\n",
    "\n",
    "#### ANS-2"
   ]
  },
  {
   "cell_type": "code",
   "execution_count": 2,
   "id": "9b1a2e08",
   "metadata": {},
   "outputs": [
    {
     "name": "stdout",
     "output_type": "stream",
     "text": [
      "[2, 4, 'hello', 8, 10]\n"
     ]
    }
   ],
   "source": [
    "spam=[2,4,6,8,10]\n",
    "spam[2]=\"hello\"\n",
    "print(spam)"
   ]
  },
  {
   "cell_type": "markdown",
   "id": "e9d29467",
   "metadata": {},
   "source": [
    "### Let&#39;s pretend the spam includes the list [&#39;a&#39;, &#39;b&#39;, &#39;c&#39;, &#39;d&#39;] for the next three queries.\n",
    "## Q-3. What is the value of spam[int(int(&#39;3&#39; * 2) / 11)]?\n",
    "\n",
    "#### ANS-3\n",
    "    The value is 'd'."
   ]
  },
  {
   "cell_type": "code",
   "execution_count": 6,
   "id": "3dee3a93",
   "metadata": {},
   "outputs": [
    {
     "name": "stdout",
     "output_type": "stream",
     "text": [
      "d\n"
     ]
    }
   ],
   "source": [
    "spam=['a','b','c','d']\n",
    "value=spam[int(int('3'*2)/11)]\n",
    "print(value)"
   ]
  },
  {
   "cell_type": "markdown",
   "id": "8504b551",
   "metadata": {},
   "source": [
    "## Q-4. What is the value of spam[-1]?\n",
    "\n",
    "#### ANS-4\n",
    "\n",
    "    The value is 'd' ,because spam[-1] gives first element from the last."
   ]
  },
  {
   "cell_type": "code",
   "execution_count": 7,
   "id": "b4369a5d",
   "metadata": {},
   "outputs": [
    {
     "name": "stdout",
     "output_type": "stream",
     "text": [
      "d\n"
     ]
    }
   ],
   "source": [
    "spam=['a','b','c','d']\n",
    "value=spam[-1]\n",
    "print(value)"
   ]
  },
  {
   "cell_type": "markdown",
   "id": "0df7ddf4",
   "metadata": {},
   "source": [
    "## Q-5. What is the value of spam[:2]?\n",
    "\n",
    "#### ANS-5\n",
    "\n",
    "    It returns elements of list spam from index 0 to 2 excluding 2 which is ['a','b'].\n"
   ]
  },
  {
   "cell_type": "code",
   "execution_count": 9,
   "id": "ec0c3308",
   "metadata": {},
   "outputs": [
    {
     "data": {
      "text/plain": [
       "['a', 'b']"
      ]
     },
     "execution_count": 9,
     "metadata": {},
     "output_type": "execute_result"
    }
   ],
   "source": [
    "spam=['a','b','c','d']\n",
    "spam[:2]"
   ]
  },
  {
   "cell_type": "markdown",
   "id": "919123c8",
   "metadata": {},
   "source": [
    "## Let&#39;s pretend bacon has the list [3.14, &#39;cat,&#39; 11, &#39;cat,&#39; True] for the next three questions."
   ]
  },
  {
   "cell_type": "markdown",
   "id": "9be95a6a",
   "metadata": {},
   "source": [
    "## Q-6. What is the value of bacon.index(&#39;cat&#39;)?\n",
    "\n",
    "#### ANS-6\n",
    "        \n",
    "        The value is 1, it gives index of the element cat which appeared earlier in list 'bacon'"
   ]
  },
  {
   "cell_type": "code",
   "execution_count": 10,
   "id": "ec1cae52",
   "metadata": {},
   "outputs": [
    {
     "data": {
      "text/plain": [
       "1"
      ]
     },
     "execution_count": 10,
     "metadata": {},
     "output_type": "execute_result"
    }
   ],
   "source": [
    "bacon=['3.14','cat','11','cat',True]\n",
    "bacon.index('cat')"
   ]
  },
  {
   "cell_type": "markdown",
   "id": "2db49f14",
   "metadata": {},
   "source": [
    "## Q-7. How does bacon.append(99) change the look of the list value in bacon?\n",
    "\n",
    "#### ANS-7\n",
    "\n",
    "        It will add '99' as the last element of the list.\n",
    "        The look changes from ['3.14', 'cat', '11', 'cat', True] to ['3.14', 'cat', '11', 'cat', True, 99]\n",
    "        "
   ]
  },
  {
   "cell_type": "code",
   "execution_count": 11,
   "id": "74229e19",
   "metadata": {},
   "outputs": [
    {
     "name": "stdout",
     "output_type": "stream",
     "text": [
      "['3.14', 'cat', '11', 'cat', True, 99]\n"
     ]
    }
   ],
   "source": [
    "bacon=['3.14','cat','11','cat',True]\n",
    "bacon.append(99)\n",
    "print(bacon)"
   ]
  },
  {
   "cell_type": "markdown",
   "id": "340ffd58",
   "metadata": {},
   "source": [
    "## Q-8. How does bacon.remove(&#39;cat&#39;) change the look of the list in bacon?\n",
    "\n",
    "#### ANS-8\n",
    "\n",
    "    Since there are two 'cat' in the bacon so,bacon.remove('cat') removes the 'cat' element  which appeared earliest in the list, \n",
    "    The look changes from ['3.14','cat','11', 'cat', True] to ['3.14', '11', 'cat', True]"
   ]
  },
  {
   "cell_type": "code",
   "execution_count": 12,
   "id": "a259b075",
   "metadata": {},
   "outputs": [
    {
     "name": "stdout",
     "output_type": "stream",
     "text": [
      "['3.14', '11', 'cat', True]\n"
     ]
    }
   ],
   "source": [
    "bacon=['3.14','cat','11','cat',True]\n",
    "bacon.remove('cat')\n",
    "print(bacon)"
   ]
  },
  {
   "cell_type": "markdown",
   "id": "bc53fcd3",
   "metadata": {},
   "source": [
    "## Q-9. What are the list concatenation and list replication operators?\n",
    "\n",
    "#### ANS-9\n",
    "\n",
    "    \n",
    "    The list concatenation operator (+ operator) combine two or more lists into one list like,"
   ]
  },
  {
   "cell_type": "code",
   "execution_count": 15,
   "id": "519043b0",
   "metadata": {},
   "outputs": [
    {
     "name": "stdout",
     "output_type": "stream",
     "text": [
      "['a', 'b', 'c', 'd', '3.14', 'cat', '11', 'cat', True]\n"
     ]
    }
   ],
   "source": [
    "spam=['a','b','c','d']\n",
    "bacon=['3.14','cat','11','cat',True]\n",
    "concatinated_list=spam+bacon\n",
    "\n",
    "print(concatinated_list)\n",
    "\n"
   ]
  },
  {
   "cell_type": "markdown",
   "id": "64975587",
   "metadata": {},
   "source": [
    "    The list replication operator (* operator) replicates the same list desired times ,like we replicate the list spam three times,"
   ]
  },
  {
   "cell_type": "code",
   "execution_count": 16,
   "id": "6ab91221",
   "metadata": {},
   "outputs": [
    {
     "name": "stdout",
     "output_type": "stream",
     "text": [
      "['a', 'b', 'c', 'd', 'a', 'b', 'c', 'd', 'a', 'b', 'c', 'd']\n"
     ]
    }
   ],
   "source": [
    "spam=['a','b','c','d']\n",
    "replicated_spam=spam*3\n",
    "\n",
    "print(replicated_spam)\n"
   ]
  },
  {
   "cell_type": "markdown",
   "id": "8bf1427b",
   "metadata": {},
   "source": [
    "## Q-10. What is difference between the list methods append() and insert()?\n",
    "\n",
    "#### ANS-10\n",
    "\n",
    "#### append()\n",
    "    The append() method adds an element to the end of the list. It takes just one arguement.\n",
    "    \n",
    "    For example, list_1=['1','2','3','4','5'] is appended with '6' it means ,which adds '6' as the last element of the list. Now, list_1 looks like ['1', '2', '3', '4', '5', '6']\n"
   ]
  },
  {
   "cell_type": "code",
   "execution_count": 19,
   "id": "9de2408b",
   "metadata": {},
   "outputs": [
    {
     "name": "stdout",
     "output_type": "stream",
     "text": [
      "['1', '2', '3', '4', '5', '6']\n"
     ]
    }
   ],
   "source": [
    "list_1=['1','2','3','4','5']\n",
    "list_1.append('6')\n",
    "print(list_1)"
   ]
  },
  {
   "cell_type": "markdown",
   "id": "d27fa11e",
   "metadata": {},
   "source": [
    "#### insert()\n",
    "    The insert() method adds an element at a specific position within the list by shifting the existing elements. It takes two arguments: the index at which to insert the element, and the element to be inserted.\n",
    "    \n",
    "    For example,list_2=['a','c','d','e'] ,we insert the elment 'b' at index=1.\n",
    "    Now, list_2 looks like ['a', 'b', 'c', 'd', 'e']"
   ]
  },
  {
   "cell_type": "code",
   "execution_count": 23,
   "id": "3eb116cc",
   "metadata": {},
   "outputs": [
    {
     "name": "stdout",
     "output_type": "stream",
     "text": [
      "['a', 'b', 'c', 'd', 'e']\n"
     ]
    }
   ],
   "source": [
    "list_2=['a','c','d','e']\n",
    "list_2.insert(1,'b')\n",
    "print(list_2)"
   ]
  },
  {
   "cell_type": "markdown",
   "id": "f76efb2c",
   "metadata": {},
   "source": [
    "## Q-11. What are the two methods for removing items from a list?\n",
    "\n",
    "#### ANS-11\n",
    "\n",
    "    Two methods of removing items from a list are remove() and pop().\n",
    "    \n",
    "    The remove() method removes the first occurrence of a specified value from the list. It takes a single argument, which  is the value to be removed.\n",
    "    \n",
    "    For example,\n"
   ]
  },
  {
   "cell_type": "code",
   "execution_count": 24,
   "id": "fe6d8bb0",
   "metadata": {},
   "outputs": [
    {
     "data": {
      "text/plain": [
       "['c', 'd', 'a', 'e']"
      ]
     },
     "execution_count": 24,
     "metadata": {},
     "output_type": "execute_result"
    }
   ],
   "source": [
    "list_3=['a','c','d','a','e']\n",
    "list_3.remove('a')\n",
    "list_3"
   ]
  },
  {
   "cell_type": "markdown",
   "id": "9acd4683",
   "metadata": {},
   "source": [
    "#### pop()\n",
    "    The pop() method removes an element at a specific position in the list or the last element if no index is provided."
   ]
  },
  {
   "cell_type": "code",
   "execution_count": 27,
   "id": "e117ef2d",
   "metadata": {},
   "outputs": [
    {
     "name": "stdout",
     "output_type": "stream",
     "text": [
      "['a', 'c', 'd', 'e']\n"
     ]
    },
    {
     "data": {
      "text/plain": [
       "['a', 'c', 'd']"
      ]
     },
     "execution_count": 27,
     "metadata": {},
     "output_type": "execute_result"
    }
   ],
   "source": [
    "list_3=['a','c','d','a','e']\n",
    "list_3.pop(3)\n",
    "print(list_3)\n",
    "\n",
    "list_3.pop()\n",
    "list_3"
   ]
  },
  {
   "cell_type": "markdown",
   "id": "218cd93a",
   "metadata": {},
   "source": [
    "## Q-12.Describe how list values and string values are identical.\n",
    "\n",
    "#### ANS-12\n",
    "    \n",
    "    List values and string values are identical ,they poses similar properties as followes:-\n",
    "\n",
    "    a.Both are sequence types, maintaining the order of their elements.\n",
    "    \n",
    "    b.They can be accessed using indexing and slicing operations.\n",
    "    \n",
    "    c.Iteration is possible over both lists and strings.\n",
    "    \n",
    "    d.Concatenation is supported for both lists and strings.\n",
    "    \n",
    "    e.The length of a list or string can be obtained using the len() function.\n",
    "    \n",
    "    \n",
    "    However,lists and strings are distinct data types with different characteristics and purposes. Lists are mutable collections of objects, while strings represent immutable sequences of characters.\n",
    "\n",
    "## Q-13. What&#39;s the difference between tuples and lists?\n",
    "\n",
    "#### ANS-13\n",
    "    \n",
    "    Lists are mutable, which means their elements can be modified, added, or removed after they are created. whereas, tuples are immutable, and once a tuple is created, its elements cannot be changed.\n",
    "    \n",
    "    Tuple and list also differs with syntax used to to define them, tuples are defined using parentheses ( ) or without any delimiters using comma-separated values. For example: (1, 2, 3) or 1, 2, 3.Lists are defined using square brackets [ ]. For example: [1, 2, 3].\n",
    "    \n",
    "    Tuples are typically used for fixed, unchangeable data, while lists are mutable and allow for dynamic modifications.The choice between tuples and lists depends on the specific requirements of program and the nature of the data.\n",
    "    \n",
    "\n",
    "## Q-14. How do you type a tuple value that only contains the integer 42?\n",
    "\n",
    "#### ANS-14\n",
    "     It is typed as (42,)\n",
    "    "
   ]
  },
  {
   "cell_type": "code",
   "execution_count": 28,
   "id": "306e9561",
   "metadata": {},
   "outputs": [
    {
     "data": {
      "text/plain": [
       "tuple"
      ]
     },
     "execution_count": 28,
     "metadata": {},
     "output_type": "execute_result"
    }
   ],
   "source": [
    "single_tuple=(42,)\n",
    "type(single_tuple)"
   ]
  },
  {
   "cell_type": "markdown",
   "id": "efd6f4f2",
   "metadata": {},
   "source": [
    "## Q-15. How do you get a list value&#39;s tuple form? How do you get a tuple value&#39;s list form?"
   ]
  },
  {
   "cell_type": "markdown",
   "id": "b572b4ca",
   "metadata": {},
   "source": [
    "#### ANS-15\n",
    "\n",
    "   #### list to tuple\n",
    "\n",
    "    tuple() function is used to convert a list to a tuple,\n",
    "    \n",
    "    Here, list_3(a list) is converted into a tuple named tuple_3"
   ]
  },
  {
   "cell_type": "code",
   "execution_count": 33,
   "id": "2f905e2b",
   "metadata": {},
   "outputs": [
    {
     "name": "stdout",
     "output_type": "stream",
     "text": [
      "('a', 'b', 'c', 'd', 'e')\n"
     ]
    }
   ],
   "source": [
    "list_3=['a','b','c','d','e']\n",
    "tuple_3=tuple(list_3)\n",
    "print(tuple_3)"
   ]
  },
  {
   "cell_type": "markdown",
   "id": "4fb6057c",
   "metadata": {},
   "source": [
    "   #### tuple to list  \n",
    "    \n",
    "    list() function is used to convert a tuple to a list,\n",
    "    \n",
    "    Here, tuple_3(a tuple) is converted to a list named list_3\n"
   ]
  },
  {
   "cell_type": "code",
   "execution_count": 35,
   "id": "37facbf0",
   "metadata": {},
   "outputs": [
    {
     "data": {
      "text/plain": [
       "['a', 'b', 'c', 'd', 'e']"
      ]
     },
     "execution_count": 35,
     "metadata": {},
     "output_type": "execute_result"
    }
   ],
   "source": [
    "tuple_3=('a', 'b', 'c', 'd', 'e')\n",
    "list_3=list(tuple_3)\n",
    "list_3"
   ]
  },
  {
   "cell_type": "markdown",
   "id": "68e52281",
   "metadata": {},
   "source": [
    "## Q-16. Variables that &quot;contain&quot; list values are not necessarily lists themselves. Instead, what do they contain?"
   ]
  },
  {
   "cell_type": "markdown",
   "id": "3fdb7870",
   "metadata": {},
   "source": [
    "#### ANS-16\n",
    "\n",
    "    Variables that contain list values do not actually contain the list itself, but rather a reference to the list object in memory. "
   ]
  },
  {
   "cell_type": "markdown",
   "id": "69eb0754",
   "metadata": {},
   "source": [
    "## Q-17. How do you distinguish between copy.copy() and copy.deepcopy()?"
   ]
  },
  {
   "cell_type": "markdown",
   "id": "c4c0be06",
   "metadata": {},
   "source": [
    "#### ANS-17\n",
    "\n",
    "#### copy.copy():-\n",
    "    copy.copy() creates a shallow copy of an object, meaning it duplicates the top-level object but shares references to nested objects. Changes made to the nested objects are reflected in both the original and copied object.\n",
    "    \n",
    "    "
   ]
  },
  {
   "cell_type": "code",
   "execution_count": 43,
   "id": "dd46a42e",
   "metadata": {},
   "outputs": [
    {
     "name": "stdout",
     "output_type": "stream",
     "text": [
      "[0, 1, 2, 3, [4, 5, 6]]\n",
      "[0, 1, 2, 3, [4, 5, 6]]\n"
     ]
    }
   ],
   "source": [
    "import copy\n",
    "First_list = [0,1,2,3,[4,5]]\n",
    "\n",
    "copy_of_First_list = copy.copy(First_list)\n",
    "copy_of_First_list[4].append(6)\n",
    "\n",
    "print(First_list)    \n",
    "print(copy_of_First_list)     "
   ]
  },
  {
   "cell_type": "markdown",
   "id": "2dddc981",
   "metadata": {},
   "source": [
    "#### copy.deepcopy():-\n",
    "    creates a deep copy of an object, meaning it duplicates both the top-level object and all nested objects. Changes made  to the nested objects in the copied structure do not affect the original object.\n"
   ]
  },
  {
   "cell_type": "code",
   "execution_count": 47,
   "id": "5b72707f",
   "metadata": {},
   "outputs": [
    {
     "name": "stdout",
     "output_type": "stream",
     "text": [
      "[0, 1, 2, 3, [4, 5]]\n",
      "[0, 1, 2, 3, [4, 5, 6]]\n"
     ]
    }
   ],
   "source": [
    "First_list = [0,1,2,3,[4,5]]\n",
    "\n",
    "deepcopy_of_First_list = copy.deepcopy(First_list)\n",
    "deepcopy_of_First_list[4].append(6)\n",
    "\n",
    "print(First_list)    \n",
    "print(deepcopy_of_First_list) "
   ]
  },
  {
   "cell_type": "markdown",
   "id": "fe53173c",
   "metadata": {},
   "source": [
    "# THANK YOU"
   ]
  },
  {
   "cell_type": "code",
   "execution_count": null,
   "id": "d7248842",
   "metadata": {},
   "outputs": [],
   "source": []
  }
 ],
 "metadata": {
  "kernelspec": {
   "display_name": "Python 3 (ipykernel)",
   "language": "python",
   "name": "python3"
  },
  "language_info": {
   "codemirror_mode": {
    "name": "ipython",
    "version": 3
   },
   "file_extension": ".py",
   "mimetype": "text/x-python",
   "name": "python",
   "nbconvert_exporter": "python",
   "pygments_lexer": "ipython3",
   "version": "3.9.12"
  }
 },
 "nbformat": 4,
 "nbformat_minor": 5
}
