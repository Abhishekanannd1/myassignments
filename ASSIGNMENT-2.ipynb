{
 "cells": [
  {
   "cell_type": "markdown",
   "id": "6154a77e",
   "metadata": {},
   "source": [
    "## Q-1.What are the two values of the Boolean data type? How do you write them?\n",
    "\n",
    "ANS-1\n",
    "\n",
    "\n",
    "    Two values of boolean data types are 'True' and 'Flse'. It is written as first letter of both words true and false in capital letter and remaining in samll letters."
   ]
  },
  {
   "cell_type": "code",
   "execution_count": 3,
   "id": "1c882291",
   "metadata": {},
   "outputs": [
    {
     "data": {
      "text/plain": [
       "True"
      ]
     },
     "execution_count": 3,
     "metadata": {},
     "output_type": "execute_result"
    }
   ],
   "source": [
    "a=4\n",
    "b=5\n",
    "a<b"
   ]
  },
  {
   "cell_type": "code",
   "execution_count": 4,
   "id": "338e3d69",
   "metadata": {},
   "outputs": [
    {
     "data": {
      "text/plain": [
       "False"
      ]
     },
     "execution_count": 4,
     "metadata": {},
     "output_type": "execute_result"
    }
   ],
   "source": [
    "a>b"
   ]
  },
  {
   "cell_type": "markdown",
   "id": "e8e4e188",
   "metadata": {},
   "source": [
    "## Q-2. What are the three different types of Boolean operators?"
   ]
  },
  {
   "cell_type": "markdown",
   "id": "00ca42b7",
   "metadata": {},
   "source": [
    "#### ANS-2\n",
    "\n",
    "a.) AND OPERATOR (LOGICAL AND):-\n",
    "\n",
    "    If both operands are true this operator evaluates True,else it evaluates false.It is written as 'and'.\n",
    "    \n",
    "b.) OR OPERATORS (LOGICAL OR):-\n",
    "\n",
    "    If atleast one operand is true this operator evaluates to true, else if both operands are false ,it evaluates to false.\n",
    "    It is written as 'or'.\n",
    "    \n",
    "    \n",
    "c.) NOT OPERATOR (NOT OPERATOR):-\n",
    "     \n",
    "    This operator returns oposite of the operand's boolean value,if operand is true it returns false if operand is false ,\n",
    "    it returns true.It is written as 'not'.\n",
    " \n",
    "     \n",
    "    \n",
    "\n",
    "    "
   ]
  },
  {
   "cell_type": "code",
   "execution_count": 7,
   "id": "e2e7558d",
   "metadata": {},
   "outputs": [
    {
     "name": "stdout",
     "output_type": "stream",
     "text": [
      "False True True True False\n"
     ]
    }
   ],
   "source": [
    "x=True\n",
    "y=False\n",
    "z=True\n",
    "w=False\n",
    "\n",
    "\n",
    "a=x and y    \n",
    "b=x or y\n",
    "c=x and z\n",
    "d= y or z\n",
    "\n",
    "e =not x # x contains True so, the not operator will conveert it into false\n",
    "\n",
    "\n",
    "print(a,b,c,d,e)"
   ]
  },
  {
   "cell_type": "markdown",
   "id": "90c81673",
   "metadata": {},
   "source": [
    "## Q-3. Make a list of each Boolean operator's truth tables (i.e. every possible combination of Boolean values for the operator and what it evaluate )."
   ]
  },
  {
   "cell_type": "markdown",
   "id": "b2dad6b0",
   "metadata": {},
   "source": [
    "#### ANS-3\n",
    "\n",
    "    1. Logical AND (and):\n",
    "\n",
    "   | Operand 1 | Operand 2 | Result |\n",
    "   |-----------|-----------|--------|\n",
    "   | True      | True      | True   |\n",
    "   | True      | False     | False  |\n",
    "   | False     | True      | False  |\n",
    "   | False     | False     | False  |\n",
    "\n",
    "2. Logical OR (or):\n",
    "\n",
    "| Operand 1 | Operand 2 | Result |\n",
    "|-----------|-----------|--------|\n",
    "| True      | True      | True   |\n",
    "| True      | False     | True   |\n",
    "| False     | True      | True   |\n",
    "| False     | False     | False  |\n",
    "\n",
    "3. Logical NOT (not):\n",
    "\n",
    "| Operand | Result |\n",
    "|---------|--------|\n",
    "| True    | False  |\n",
    "| False   | True   |\n"
   ]
  },
  {
   "cell_type": "markdown",
   "id": "0c59146e",
   "metadata": {},
   "source": [
    "## Q-4. What are the values of the following expressions?\n",
    "    (5 > 4) and (3 == 5)\n",
    "\n",
    "    not (5 > 4)\n",
    "\n",
    "    (5 > 4) or (3 == 5)\n",
    "\n",
    "    not ((5 > 4) or (3 == 5))\n",
    "\n",
    "    (True and True) and (True == False)\n",
    "\n",
    "    (not False) or (not True)\n"
   ]
  },
  {
   "cell_type": "markdown",
   "id": "e04e210e",
   "metadata": {},
   "source": [
    "#### ANS-4\n",
    "\n",
    "    The value of expressions from top to bottom are respectively:\n",
    "\n",
    "    False\n",
    "\n",
    "    False\n",
    "\n",
    "    True\n",
    "\n",
    "    False\n",
    "    \n",
    "    False\n",
    "\n",
    "    True\n",
    "  \n",
    "  \n"
   ]
  },
  {
   "cell_type": "code",
   "execution_count": 9,
   "id": "2a13ef0e",
   "metadata": {},
   "outputs": [
    {
     "data": {
      "text/plain": [
       "False"
      ]
     },
     "execution_count": 9,
     "metadata": {},
     "output_type": "execute_result"
    }
   ],
   "source": [
    "(5 > 4) and (3 == 5)"
   ]
  },
  {
   "cell_type": "code",
   "execution_count": 10,
   "id": "89b14557",
   "metadata": {},
   "outputs": [
    {
     "data": {
      "text/plain": [
       "False"
      ]
     },
     "execution_count": 10,
     "metadata": {},
     "output_type": "execute_result"
    }
   ],
   "source": [
    "not (5 > 4)"
   ]
  },
  {
   "cell_type": "code",
   "execution_count": 15,
   "id": "c84a7bde",
   "metadata": {},
   "outputs": [
    {
     "data": {
      "text/plain": [
       "True"
      ]
     },
     "execution_count": 15,
     "metadata": {},
     "output_type": "execute_result"
    }
   ],
   "source": [
    "(5 > 4) or (3 == 5)"
   ]
  },
  {
   "cell_type": "code",
   "execution_count": 11,
   "id": "7dc46b8b",
   "metadata": {},
   "outputs": [
    {
     "data": {
      "text/plain": [
       "False"
      ]
     },
     "execution_count": 11,
     "metadata": {},
     "output_type": "execute_result"
    }
   ],
   "source": [
    "not ((5 > 4) or (3 == 5))"
   ]
  },
  {
   "cell_type": "code",
   "execution_count": 12,
   "id": "17cbbe15",
   "metadata": {},
   "outputs": [
    {
     "data": {
      "text/plain": [
       "False"
      ]
     },
     "execution_count": 12,
     "metadata": {},
     "output_type": "execute_result"
    }
   ],
   "source": [
    "(True and True) and (True == False)"
   ]
  },
  {
   "cell_type": "code",
   "execution_count": 13,
   "id": "edf556bd",
   "metadata": {},
   "outputs": [
    {
     "data": {
      "text/plain": [
       "True"
      ]
     },
     "execution_count": 13,
     "metadata": {},
     "output_type": "execute_result"
    }
   ],
   "source": [
    "(not False) or (not True)"
   ]
  },
  {
   "cell_type": "markdown",
   "id": "3523168d",
   "metadata": {},
   "source": [
    "## Q-5. What are the six comparison operators?"
   ]
  },
  {
   "cell_type": "markdown",
   "id": "0b5a089a",
   "metadata": {},
   "source": [
    "#### ANS-5\n",
    "    Six comparison operators as follows:-\n",
    "\n",
    "    1. Equal to operator (==):-This operator returns 'True' if the operands are equal, else 'False' .\n",
    "\n",
    "    2. Not equal to operator (!=):- It gives 'True' if the operands are not equal, and 'False' if they are equal.\n",
    "\n",
    "    3. Greater than operator(>):- It returns 'True' if the left operand is greater than the right operand, else 'False'.\n",
    "\n",
    "    4. Less than operator (<):-It results in 'True' if the left operand is less than the right operand, else 'False'\n",
    "\n",
    "    5. Greater than or equal to operator(>=):- This gives 'True' if the left operand is greater than or equal to the right operand, else 'False'\n",
    "\n",
    "    6. Less than or equal to operator (<=):- returns 'True' if the left operand is less than or equal to the right operand, else 'False'\n",
    "\n"
   ]
  },
  {
   "cell_type": "markdown",
   "id": "418cae11",
   "metadata": {},
   "source": [
    "## Q-6.How do you tell the difference between the equal to and assignment operators?Describe a condition and when you would use one."
   ]
  },
  {
   "cell_type": "markdown",
   "id": "75b2d15a",
   "metadata": {},
   "source": [
    "#### ANS-6\n",
    "\n",
    "    Equal to operator (==): The equal to operator is used for comparison. It checks if the values on both sides are equal and returns a Boolean value (True or False) based on the comparison. It does not modify the values being compared.\n",
    "\n",
    "    Assignment operator (=): The assignment operator is used to assign a value to a variable. It takes the value on the right-hand side and assigns it to the variable on the left-hand side. It does not perform any comparison."
   ]
  },
  {
   "cell_type": "code",
   "execution_count": 19,
   "id": "575c73b4",
   "metadata": {},
   "outputs": [
    {
     "data": {
      "text/plain": [
       "True"
      ]
     },
     "execution_count": 19,
     "metadata": {},
     "output_type": "execute_result"
    }
   ],
   "source": [
    "x=0   # here the assignment operator(=) assigns 0 in the variable x\n",
    "\n",
    "x==0  # here Equal to operator (==) CHECKS IF X IS EQUAL TO 0 OR NOT AND RETURNS BOOLEAN RESULT"
   ]
  },
  {
   "cell_type": "markdown",
   "id": "b446d0bc",
   "metadata": {},
   "source": [
    "## Q-7. Identify the three blocks in this code:\n",
    "    spam = 0\n",
    "\n",
    "    if spam == 10:\n",
    "    print('eggs')\n",
    "    if spam > 5:\n",
    "    print('bacon')\n",
    "    else:\n",
    "    print('ham')\n",
    "    print('spam')\n",
    "    print('spam')\n"
   ]
  },
  {
   "cell_type": "markdown",
   "id": "a8198d9e",
   "metadata": {},
   "source": [
    "### ANS-7\n",
    "\n",
    "   ##### BLOCK-1\n",
    "spam=0\n",
    "\n",
    "if spam == 10:\n",
    "\n",
    "    print('eggs')  \n",
    "\n",
    "   ##### BLOCK-2\n",
    "\n",
    "if spam > 5:\n",
    "\n",
    "    print('bacon')  \n",
    "    \n",
    "   ##### BLOCK-3\n",
    "else:\n",
    "\n",
    "    print('ham')    \n",
    "    \n",
    "\n",
    "    print('spam')  \n",
    "    \n",
    "    print('spam')  "
   ]
  },
  {
   "cell_type": "markdown",
   "id": "49034d30",
   "metadata": {},
   "source": [
    "## Q-8.Write code that prints Hello if 1 is stored in spam, prints Howdy if 2 is stored in spam, and prints Greetings! if anything else is stored in spam.\n",
    "\n",
    "#### ANS-8"
   ]
  },
  {
   "cell_type": "code",
   "execution_count": 33,
   "id": "dd9f1060",
   "metadata": {},
   "outputs": [
    {
     "name": "stdout",
     "output_type": "stream",
     "text": [
      "ENTER A NUMBER:1\n",
      "Hello\n"
     ]
    }
   ],
   "source": [
    "spam =int(input(\"ENTER A NUMBER:\"))\n",
    "\n",
    "if spam == 1:\n",
    "    print('Hello')\n",
    "elif spam == 2:\n",
    "    print('Howdy')\n",
    "else:\n",
    "    print('Greetings!')"
   ]
  },
  {
   "cell_type": "markdown",
   "id": "ce073bb4",
   "metadata": {},
   "source": [
    "## Q-9.If your programme is stuck in an endless loop, what keys you’ll press?"
   ]
  },
  {
   "cell_type": "markdown",
   "id": "87c3a747",
   "metadata": {},
   "source": [
    "#### ANS-9\n",
    "\n",
    "    \"ctrl+c\"\n",
    "        Pressing the Ctrl key and the C key simultaneously on keyboard (Ctrl + C) will send an interrupt signal to the\n",
    "        interpreter, causing it to terminate the program. "
   ]
  },
  {
   "cell_type": "markdown",
   "id": "5275c986",
   "metadata": {},
   "source": [
    "## Q-10.How can you tell the difference between break and continue?"
   ]
  },
  {
   "cell_type": "markdown",
   "id": "6c9d4b14",
   "metadata": {},
   "source": [
    "#### ANS-10\n",
    "\n",
    "Break statement:\n",
    "\n",
    "    The break statement is used to terminate the current loop before its completion. When a break statement is used in loop,the  loop is immediately exited, and the program execution continues from the next statement after the loop hence, remaining  iterations of the loop are skipped entirely.\n",
    " \n",
    "continue statement:\n",
    "\n",
    "    The continue statement is used to skip the rest of the current iteration of a loop and move on to the next iteration. When a continue statement is encountered within a loop, the remaining code in the loop for the current iteration is skipped, and the loop proceeds with the next iteration. "
   ]
  },
  {
   "cell_type": "code",
   "execution_count": 42,
   "id": "679596b6",
   "metadata": {},
   "outputs": [
    {
     "name": "stdout",
     "output_type": "stream",
     "text": [
      "0\n",
      "1\n"
     ]
    }
   ],
   "source": [
    "for i in range(4):\n",
    "    if i==2:\n",
    "        break \n",
    "    print(i)"
   ]
  },
  {
   "cell_type": "code",
   "execution_count": 41,
   "id": "cd528c40",
   "metadata": {},
   "outputs": [
    {
     "name": "stdout",
     "output_type": "stream",
     "text": [
      "0\n",
      "1\n",
      "3\n",
      "4\n"
     ]
    }
   ],
   "source": [
    "for i in range(5):\n",
    "    if i == 2:\n",
    "        continue\n",
    "    print(i)"
   ]
  },
  {
   "cell_type": "markdown",
   "id": "70415867",
   "metadata": {},
   "source": [
    "## Q-11.In a for loop, what is the difference between range(10), range(0, 10), and range(0, 10, 1)?"
   ]
  },
  {
   "cell_type": "markdown",
   "id": "8f0426e1",
   "metadata": {},
   "source": [
    "#### ANS-11\n",
    "\n",
    "    All three expressions have same results, all represents a range from 0 to 10 excluding 10.They just differ in syntax.\n",
    "    \n",
    "    range(10): it represents a range upto 10 excluding 10,by default it starts with 0.\n",
    "    \n",
    "    range(0,10):it represents a range from 0 to 10 excluding 10 , increse one each time\n",
    "    \n",
    "    range(0,10,1): This is a range from 0 to 10 with step=1, means it wiil give result as 0,1,2,3,4,5,6,7,8,9\n",
    "    \n",
    "    All three expressions holds same rangne 0,1,2,3,4,5,6,7,8,9"
   ]
  },
  {
   "cell_type": "code",
   "execution_count": 50,
   "id": "2d90e73d",
   "metadata": {},
   "outputs": [
    {
     "name": "stdout",
     "output_type": "stream",
     "text": [
      "0\n",
      "1\n",
      "2\n",
      "3\n",
      "4\n",
      "5\n",
      "6\n",
      "7\n",
      "8\n",
      "9\n"
     ]
    }
   ],
   "source": [
    "range(10)\n",
    "for i in range(10):\n",
    "    print(i)"
   ]
  },
  {
   "cell_type": "markdown",
   "id": "06a58f1d",
   "metadata": {},
   "source": [
    "## Q-12.Write a short program that prints the numbers 1 to 10 using a for loop. Then write an equivalent program that prints the numbers 1 to 10 using a while loop.\n",
    "\n",
    "#### ANS-12\n",
    "\n",
    "PRINTING 1 TO 1O USING FOR LOOP"
   ]
  },
  {
   "cell_type": "code",
   "execution_count": 56,
   "id": "2e61bd26",
   "metadata": {},
   "outputs": [
    {
     "name": "stdout",
     "output_type": "stream",
     "text": [
      "1\n",
      "2\n",
      "3\n",
      "4\n",
      "5\n",
      "6\n",
      "7\n",
      "8\n",
      "9\n",
      "10\n"
     ]
    }
   ],
   "source": [
    "for i in range(1,11):\n",
    "    print(i)"
   ]
  },
  {
   "cell_type": "markdown",
   "id": "35897509",
   "metadata": {},
   "source": [
    "PRINTING 1 TO 1O USING WHILE LOOP"
   ]
  },
  {
   "cell_type": "code",
   "execution_count": 57,
   "id": "4097b958",
   "metadata": {},
   "outputs": [
    {
     "name": "stdout",
     "output_type": "stream",
     "text": [
      "1\n",
      "2\n",
      "3\n",
      "4\n",
      "5\n",
      "6\n",
      "7\n",
      "8\n",
      "9\n",
      "10\n"
     ]
    }
   ],
   "source": [
    "n=1\n",
    "while n<11:\n",
    "    print(n)\n",
    "    n=n+1"
   ]
  },
  {
   "cell_type": "markdown",
   "id": "62c95ed7",
   "metadata": {},
   "source": [
    "## Q-13.If you had a function named bacon() inside a module named spam, how would you call it after importing spam?\n",
    "\n",
    "#### ANS-13\n",
    "\n",
    "    import spam \n",
    "    spam.bacon()"
   ]
  },
  {
   "cell_type": "markdown",
   "id": "25ff3a29",
   "metadata": {},
   "source": [
    "# THANK YOU"
   ]
  }
 ],
 "metadata": {
  "kernelspec": {
   "display_name": "Python 3 (ipykernel)",
   "language": "python",
   "name": "python3"
  },
  "language_info": {
   "codemirror_mode": {
    "name": "ipython",
    "version": 3
   },
   "file_extension": ".py",
   "mimetype": "text/x-python",
   "name": "python",
   "nbconvert_exporter": "python",
   "pygments_lexer": "ipython3",
   "version": "3.9.12"
  }
 },
 "nbformat": 4,
 "nbformat_minor": 5
}
