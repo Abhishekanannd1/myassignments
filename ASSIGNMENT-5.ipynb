{
 "cells": [
  {
   "cell_type": "markdown",
   "id": "493046fd",
   "metadata": {},
   "source": [
    "# ASSIGNMENT-5\n",
    "\n",
    "## Q-1.What does an empty dictionary&#39;s code look like?\n",
    "\n",
    "#### ANS-1\n",
    "    \n",
    "    An empty dictionary  is represented by a pair of curly braces {}\n",
    "    empy_dictionary={}"
   ]
  },
  {
   "cell_type": "code",
   "execution_count": 6,
   "id": "c8e97c96",
   "metadata": {},
   "outputs": [
    {
     "data": {
      "text/plain": [
       "dict"
      ]
     },
     "execution_count": 6,
     "metadata": {},
     "output_type": "execute_result"
    }
   ],
   "source": [
    "empty_dictionary={}\n",
    "type(empty_dictionary)"
   ]
  },
  {
   "cell_type": "markdown",
   "id": "0b504a89",
   "metadata": {},
   "source": [
    "## Q-2. What is the value of a dictionary value with the key &#39;foo&#39; and the value 42?"
   ]
  },
  {
   "cell_type": "markdown",
   "id": "f8ddbcff",
   "metadata": {},
   "source": [
    "#### ANS-2\n",
    "\n",
    "    The value would be 42."
   ]
  },
  {
   "cell_type": "code",
   "execution_count": 10,
   "id": "4ec3d5d2",
   "metadata": {},
   "outputs": [
    {
     "data": {
      "text/plain": [
       "'42'"
      ]
     },
     "execution_count": 10,
     "metadata": {},
     "output_type": "execute_result"
    }
   ],
   "source": [
    "dict={\"foo\":\"42\"}\n",
    "dict[\"foo\"]"
   ]
  },
  {
   "cell_type": "markdown",
   "id": "e4f64242",
   "metadata": {},
   "source": [
    "## Q-3. What is the most significant distinction between a dictionary and a list?\n",
    "\n",
    "#### ANS-3\n",
    "\n",
    "    The main distinction between a dictionary and a list is that a list is an ordered collection accessed by index, while a dictionary is an unordered collection accessed by unique keys. "
   ]
  },
  {
   "cell_type": "markdown",
   "id": "03795076",
   "metadata": {},
   "source": [
    "## Q-4. What happens if you try to access spam[&#39;foo&#39;] if spam is {&#39;bar&#39;: 100}?\n",
    "\n",
    "#### ANS-4\n",
    "\n",
    "    It will show KeyError"
   ]
  },
  {
   "cell_type": "code",
   "execution_count": 13,
   "id": "a801a56d",
   "metadata": {},
   "outputs": [
    {
     "ename": "KeyError",
     "evalue": "'foo'",
     "output_type": "error",
     "traceback": [
      "\u001b[1;31m---------------------------------------------------------------------------\u001b[0m",
      "\u001b[1;31mKeyError\u001b[0m                                  Traceback (most recent call last)",
      "Input \u001b[1;32mIn [13]\u001b[0m, in \u001b[0;36m<cell line: 2>\u001b[1;34m()\u001b[0m\n\u001b[0;32m      1\u001b[0m spam\u001b[38;5;241m=\u001b[39m{\u001b[38;5;124m'\u001b[39m\u001b[38;5;124mbar\u001b[39m\u001b[38;5;124m'\u001b[39m:\u001b[38;5;241m100\u001b[39m}\n\u001b[1;32m----> 2\u001b[0m \u001b[43mspam\u001b[49m\u001b[43m[\u001b[49m\u001b[38;5;124;43m'\u001b[39;49m\u001b[38;5;124;43mfoo\u001b[39;49m\u001b[38;5;124;43m'\u001b[39;49m\u001b[43m]\u001b[49m\n",
      "\u001b[1;31mKeyError\u001b[0m: 'foo'"
     ]
    }
   ],
   "source": [
    "spam={'bar':100}\n",
    "spam['foo']"
   ]
  },
  {
   "cell_type": "markdown",
   "id": "f8c49de8",
   "metadata": {},
   "source": [
    "## Q-5. If a dictionary is stored in spam, what is the difference between the expressions &#39;cat&#39; in spam and &#39;cat&#39; in spam.keys()?"
   ]
  },
  {
   "cell_type": "markdown",
   "id": "17aa20db",
   "metadata": {},
   "source": [
    "#### ANS-5\n",
    "\n",
    "    'cat' in spam :-\n",
    "    This expression checks if the key 'cat' exists in the dictionary spam or not and returns boolean values accordingly.\n",
    "    \n",
    "    'cat' in spam.keys():-\n",
    "    \n",
    "    This expression first retrieves all the keys of the dictionary spam using the keys() method. It then checks if the key 'cat' is present in the list of keys returned by spam.keys().\n",
    "    \n",
    "    \n",
    "    Both gives sam result ,only difference in backend is 'cat' in spam checks directly in dictionary for the key, whereas \n",
    "    'cat' in spam.keys() make a list of all keys then check for the key in that list.\n",
    "   "
   ]
  },
  {
   "cell_type": "code",
   "execution_count": 17,
   "id": "a017c8e7",
   "metadata": {},
   "outputs": [
    {
     "data": {
      "text/plain": [
       "True"
      ]
     },
     "execution_count": 17,
     "metadata": {},
     "output_type": "execute_result"
    }
   ],
   "source": [
    "spam={'cat':'meo'}\n",
    "'cat' in spam"
   ]
  },
  {
   "cell_type": "code",
   "execution_count": 18,
   "id": "0dad3a19",
   "metadata": {},
   "outputs": [
    {
     "data": {
      "text/plain": [
       "True"
      ]
     },
     "execution_count": 18,
     "metadata": {},
     "output_type": "execute_result"
    }
   ],
   "source": [
    "spam={'cat':'meo'}\n",
    "'cat' in spam.keys()"
   ]
  },
  {
   "cell_type": "markdown",
   "id": "989fae9e",
   "metadata": {},
   "source": [
    "## Q-6. If a dictionary is stored in spam, what is the difference between the expressions &#39;cat&#39; in spam and &#39;cat&#39; in spam.values()?"
   ]
  },
  {
   "cell_type": "markdown",
   "id": "108863d5",
   "metadata": {},
   "source": [
    "#### ANS-6\n",
    "\n",
    "    'cat' in spam checks whether the key 'cat' is present in the dictionary spam or not and return boolean value whereas,\n",
    "    'cat' in spam.values checks whether 'cat' is present as a value in the dictionary spam or not and return boolean value."
   ]
  },
  {
   "cell_type": "code",
   "execution_count": 20,
   "id": "49c7e669",
   "metadata": {},
   "outputs": [
    {
     "data": {
      "text/plain": [
       "True"
      ]
     },
     "execution_count": 20,
     "metadata": {},
     "output_type": "execute_result"
    }
   ],
   "source": [
    "spam={'cat':'meo'}\n",
    "'cat' in spam"
   ]
  },
  {
   "cell_type": "code",
   "execution_count": 21,
   "id": "8cd3aff0",
   "metadata": {},
   "outputs": [
    {
     "data": {
      "text/plain": [
       "False"
      ]
     },
     "execution_count": 21,
     "metadata": {},
     "output_type": "execute_result"
    }
   ],
   "source": [
    "spam={'cat':'meo'}\n",
    "'cat' in spam.values()"
   ]
  },
  {
   "cell_type": "markdown",
   "id": "03f95f06",
   "metadata": {},
   "source": [
    "## Q-7. What is a shortcut for the following code?\n",
    "if &#39;color&#39; not in spam:\n",
    "\n",
    "spam[&#39;color&#39;] = &#39;black&#39;"
   ]
  },
  {
   "cell_type": "markdown",
   "id": "dd39c9a0",
   "metadata": {},
   "source": [
    "#### ANS-7\n",
    "\n",
    "    spam.setdefault('color', 'black')\n"
   ]
  },
  {
   "cell_type": "markdown",
   "id": "746a0729",
   "metadata": {},
   "source": [
    "## Q-8. How do you &quot;pretty print&quot; dictionary values using which module and function?"
   ]
  },
  {
   "cell_type": "markdown",
   "id": "8e2d9cc5",
   "metadata": {},
   "source": [
    "#### ANS-8\n",
    "\n",
    "    The pprint module and its pprint() function is used for ''pretty print'' a dictionary.\n",
    "    \n",
    "    For example"
   ]
  },
  {
   "cell_type": "code",
   "execution_count": 23,
   "id": "5a7691ca",
   "metadata": {},
   "outputs": [
    {
     "name": "stdout",
     "output_type": "stream",
     "text": [
      "{'age': 23, 'course': 'data science', 'name': 'ABHISHEK'}\n"
     ]
    }
   ],
   "source": [
    "import pprint\n",
    "\n",
    "A_dict = {'name': 'ABHISHEK','age': 23,'course': 'data science'}\n",
    "\n",
    "pprint.pprint(A_dict)\n"
   ]
  },
  {
   "cell_type": "markdown",
   "id": "835a5462",
   "metadata": {},
   "source": [
    "# THANK YOU!"
   ]
  },
  {
   "cell_type": "code",
   "execution_count": null,
   "id": "801f135b",
   "metadata": {},
   "outputs": [],
   "source": []
  }
 ],
 "metadata": {
  "kernelspec": {
   "display_name": "Python 3 (ipykernel)",
   "language": "python",
   "name": "python3"
  },
  "language_info": {
   "codemirror_mode": {
    "name": "ipython",
    "version": 3
   },
   "file_extension": ".py",
   "mimetype": "text/x-python",
   "name": "python",
   "nbconvert_exporter": "python",
   "pygments_lexer": "ipython3",
   "version": "3.9.12"
  }
 },
 "nbformat": 4,
 "nbformat_minor": 5
}
