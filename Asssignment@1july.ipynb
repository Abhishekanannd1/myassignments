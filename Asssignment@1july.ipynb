{
 "cells": [
  {
   "cell_type": "markdown",
   "id": "0418ee76",
   "metadata": {},
   "source": [
    "## Q-1. What is the primary goal of Object-Oriented Programming (OOP)?\n",
    "\n",
    "\n",
    "\n",
    "\n",
    "#### ANS-1\n"
   ]
  },
  {
   "cell_type": "markdown",
   "id": "381f7520",
   "metadata": {},
   "source": [
    "    The primary goal of Object-Oriented Programming (OOP) is to provide a way to structure and organize complex software systems by representing them as objects that have data (attributes) and behavior (methods) encapsulated together. OOP aims to improve software development by promoting modular, reusable, and maintainable code.\n",
    "\n",
    "    Main principals  of object oriented prigramming: \n",
    "\n",
    "    Encapsulation: Encapsulation refers to the bundling of data and methods within an object, such that the object's internal workings are hidden from the outside world. It allows for information hiding and provides a clear interface for interacting with the object.\n",
    "    \n",
    "\n",
    "    Inheritance: Inheritance allows objects to inherit attributes and behaviors from a parent object, known as a superclass or base class. This promotes code reuse and allows for the creation of specialized classes that inherit and extend the functionality of the base class. \n",
    "    \n",
    "    Polymorphism: Polymorphism allows objects of different classes to be treated as objects of a common superclass. It \n",
    "    allows for the use of different implementations of methods based on the actual type of the object being referred to, enabling more flexible and modular code. \n",
    "\n",
    "    Abstraction: Abstraction involves simplifying complex systems by modeling them at a higher level of abstraction. \n",
    "    It allows developers to focus on essential features while hiding unnecessary implementation details. \n",
    "\n"
   ]
  },
  {
   "cell_type": "markdown",
   "id": "83393f84",
   "metadata": {},
   "source": [
    "## Q-2. What is an object in Python?\n",
    "\n",
    "#### ANS-2"
   ]
  },
  {
   "cell_type": "markdown",
   "id": "bd6aa7c0",
   "metadata": {},
   "source": [
    "    An object is a fundamental concept of object-oriented programming (OOP). An object is an instance of a class, which is          defined as a blueprint for creating objects.An object, also known as an instance, is created by instantiating a class. \n",
    "    It can store data specific to that instance and perform actions defined by the class's methods.\n",
    "\n"
   ]
  },
  {
   "cell_type": "markdown",
   "id": "6dc81b5c",
   "metadata": {},
   "source": [
    "## 3. What is a class in Python?\n",
    "\n",
    "#### ANS-3"
   ]
  },
  {
   "cell_type": "markdown",
   "id": "f26b90b6",
   "metadata": {},
   "source": [
    "    A class is a blueprint or a template for creating objects. It is a fundamental concept of object-oriented programming (OOP). A class defines the attributes (data) and methods (functions) that objects of that class will have.\n",
    "    \n",
    "    Like,"
   ]
  },
  {
   "cell_type": "code",
   "execution_count": 11,
   "id": "ac6cd7ee",
   "metadata": {},
   "outputs": [],
   "source": [
    "class Employee_info:\n",
    "    def __init__(self,name,designation,experience):\n",
    "        self.name=name\n",
    "        self.designation=designation\n",
    "        self.experience=experience\n",
    "        \n",
    "    def display_detail(self):\n",
    "        print(f\"{self.name} have experience of {self.experience} years as {self.designation}\")\n",
    "        \n",
    "    "
   ]
  },
  {
   "cell_type": "code",
   "execution_count": 12,
   "id": "a73ced10",
   "metadata": {},
   "outputs": [],
   "source": [
    "Employee1=Employee_info(\"Abhishek Anand\",\"Data Scientist\",5)"
   ]
  },
  {
   "cell_type": "code",
   "execution_count": 13,
   "id": "ce301dbe",
   "metadata": {},
   "outputs": [
    {
     "name": "stdout",
     "output_type": "stream",
     "text": [
      "Abhishek Anand have experience of 5 years as Data Scientist\n"
     ]
    }
   ],
   "source": [
    "Employee1.display_detail()"
   ]
  },
  {
   "cell_type": "markdown",
   "id": "446dc82e",
   "metadata": {},
   "source": [
    "## Q-4. What are attributes and methods in a class?\n",
    "\n",
    "#### ANS-4\n"
   ]
  },
  {
   "cell_type": "markdown",
   "id": "d1e066b6",
   "metadata": {},
   "source": [
    "    In object-oriented programming, a class is a blueprint or template that defines the structure and behavior of objects.\n",
    "    Attributes and methods are two fundamental components of a class.\n",
    "    \n",
    "    Attributes:\n",
    "            Attributes are variables that store data within an object. They represent the characteristics or properties of    the  object. Attributes are defined in the class and are shared by all instances (objects) created from that class.\n",
    "    \n",
    "    Methods:\n",
    "    Methods are functions defined within a class that define the behavior of the objects created from that class. They allow objects to perform actions or operations. Methods operate on the data stored in attributes, and they can access and manipulate the attributes of the object to achieve specific functionalities."
   ]
  },
  {
   "cell_type": "markdown",
   "id": "1a536cbc",
   "metadata": {},
   "source": [
    "## Q-5. What is the difference between class variables and instance variables in Python?\n",
    "\n",
    "#### ANS-5\n",
    "\n",
    "    Class variables:-\n",
    "    \n",
    "    Class variables are variables that are shared among all instances (objects) of a class. They are defined within the     class but outside any instance methods. \n",
    "    \n",
    "    Like,\n",
    "    \n",
    "    "
   ]
  },
  {
   "cell_type": "code",
   "execution_count": 18,
   "id": "d57afdb5",
   "metadata": {},
   "outputs": [
    {
     "name": "stdout",
     "output_type": "stream",
     "text": [
      "This is a class variable\n"
     ]
    }
   ],
   "source": [
    "class MyClass:\n",
    "    class_variable = \"This is a class variable\"\n",
    "\n",
    "obj1 = MyClass()\n",
    "\n",
    "\n",
    "print(obj1.class_variable) \n",
    "\n"
   ]
  },
  {
   "cell_type": "markdown",
   "id": "92bbc603",
   "metadata": {},
   "source": [
    "    Instance Variables:-\n",
    "    Instance variables are unique to each instance (object) of the class. They are defined within the class's methods, typically inside the __init__ method. Each instance has its own copy of instance variables, and modifications to these variables do not affect other instances of the class.\n",
    "    \n",
    "    Like,"
   ]
  },
  {
   "cell_type": "code",
   "execution_count": 17,
   "id": "6ecd8efa",
   "metadata": {},
   "outputs": [
    {
     "name": "stdout",
     "output_type": "stream",
     "text": [
      "Abhishek\n"
     ]
    }
   ],
   "source": [
    "class Person:\n",
    "    def __init__(self, name, age):\n",
    "        self.name = name\n",
    "        self.age = age\n",
    "\n",
    "person1 = Person(\"Abhishek\", 25)\n",
    "\n",
    "\n",
    "print(person1.name)  \n"
   ]
  },
  {
   "cell_type": "markdown",
   "id": "ba5ecb1f",
   "metadata": {},
   "source": [
    "## Q-6. What is the purpose of the self parameter in Python class methods?\n",
    "\n",
    "#### ANS-6\n",
    "\n",
    "    In Python, the self parameter is a convention used in class methods to represent the instance (object) on which the method is called. It is the first parameter of instance methods and is automatically passed by Python when the method is invoked on an object. The purpose of the self parameter is to access and manipulate the attributes and methods of the instance within the method."
   ]
  },
  {
   "cell_type": "markdown",
   "id": "189ee2bc",
   "metadata": {},
   "source": [
    "## Q-7.For a library management system, you have to design the \"Book\" class with OOP principles in mind. The “Book” class will have following attributes:\n",
    "\n",
    "    a. title: Represents the title of the book.\n",
    "    b. author: Represents the author(s) of the book.\n",
    "    c. isbn: Represents the ISBN (International Standard Book Number) of the book.\n",
    "    d. publication_year: Represents the year of publication of the book.\n",
    "    e. available_copies: Represents the number of copies available for checkout.\n",
    "    \n",
    "    The class will also include the following methods:\n",
    "    a. check_out(self): Decrements the available copies by one if there are copies available for checkout.\n",
    "    b. return_book(self): Increments the available copies by one when a book is returned.\n",
    "    c.display_book_info(self): Displays the information about the book, including its attributes and the number of available copies.\n",
    "    \n",
    "#### ANS-7"
   ]
  },
  {
   "cell_type": "code",
   "execution_count": 2,
   "id": "ebfccf91",
   "metadata": {},
   "outputs": [
    {
     "name": "stdout",
     "output_type": "stream",
     "text": [
      "Title: MY experiments with truth\n",
      "Author: Mahatma Gandhi\n",
      "ISBN: 978-3-16-148410-0\n",
      "Publication Year: 1926\n",
      "Available Copies: 5\n",
      "Checked out 'MY experiments with truth' by Mahatma Gandhi\n",
      "Returned 'MY experiments with truth' by Mahatma Gandhi\n"
     ]
    }
   ],
   "source": [
    "class Book:\n",
    "    def __init__(self, title, author, isbn, publication_year, available_copies):\n",
    "        self.title = title\n",
    "        self.author = author\n",
    "        self.isbn = isbn\n",
    "        self.publication_year = publication_year\n",
    "        self.available_copies = available_copies\n",
    "\n",
    "    def check_out(self):\n",
    "        if self.available_copies > 0:\n",
    "            self.available_copies -= 1\n",
    "            print(f\"Checked out '{self.title}' by {self.author}\")\n",
    "        else:\n",
    "            print(f\"'{self.title}' is currently not available for checkout.\")\n",
    "\n",
    "    def return_book(self):\n",
    "        self.available_copies += 1\n",
    "        print(f\"Returned '{self.title}' by {self.author}\")\n",
    "\n",
    "    def display_book_info(self):\n",
    "        print(f\"Title: {self.title}\")\n",
    "        print(f\"Author: {self.author}\")\n",
    "        print(f\"ISBN: {self.isbn}\")\n",
    "        print(f\"Publication Year: {self.publication_year}\")\n",
    "        print(f\"Available Copies: {self.available_copies}\")\n",
    "\n",
    "\n",
    "book1 = Book(\"MY experiments with truth\", \"Mahatma Gandhi\", \"978-3-16-148410-0\",1926, 5)\n",
    "\n",
    "\n",
    "book1.display_book_info()\n",
    "book1.check_out()\n",
    "book1.return_book()\n",
    "\n"
   ]
  },
  {
   "cell_type": "markdown",
   "id": "ac0c7486",
   "metadata": {},
   "source": [
    "## Q-8. For a ticket booking system, you have to design the \"Ticket\" class with OOP principles in mind. The “Ticket” class should have the following attributes:\n",
    "\n",
    "a. ticket_id: Represents the unique identifier for the ticket.\n",
    "\n",
    "b. event_name: Represents the name of the event.\n",
    "\n",
    "c. event_date: Represents the date of the event.\n",
    "\n",
    "d. venue: Represents the venue of the event.\n",
    "\n",
    "e. seat_number: Represents the seat number associated with the ticket.\n",
    "\n",
    "f. price: Represents the price of the ticket.\n",
    "\n",
    "g. is_reserved: Represents the reservation status of the ticket.\n",
    "\n",
    "The class also includes the following methods:\n",
    "\n",
    "a. reserve_ticket(self): Marks the ticket as reserved if it is not already reserved.\n",
    "\n",
    "b. cancel_reservation(self): Cancels the reservation of the ticket if it is already\n",
    "reserved.\n",
    "\n",
    "c. display_ticket_info(self): Displays the information about the ticket, including its\n",
    "attributes and reservation status.\n",
    "\n",
    "#### ANS-8"
   ]
  },
  {
   "cell_type": "code",
   "execution_count": 2,
   "id": "607482ed",
   "metadata": {},
   "outputs": [
    {
     "name": "stdout",
     "output_type": "stream",
     "text": [
      "Ticket ID: 1\n",
      "Event Name: Concert\n",
      "Event Date: 2023-10-15\n",
      "Venue: Main Hall\n",
      "Seat Number: A12\n",
      "Price: 50.0\n",
      "Reservation Status: Not Reserved\n",
      "Ticket 1 is now reserved.\n",
      "Ticket 1 is already reserved.\n",
      "Reservation for Ticket 1 is canceled.\n",
      "Ticket 1 is not reserved, so cannot cancel reservation.\n",
      "Ticket ID: 1\n",
      "Event Name: Concert\n",
      "Event Date: 2023-10-15\n",
      "Venue: Main Hall\n",
      "Seat Number: A12\n",
      "Price: 50.0\n",
      "Reservation Status: Not Reserved\n"
     ]
    }
   ],
   "source": [
    "class Ticket:\n",
    "    def __init__(self, ticket_id, event_name, event_date, venue, seat_number, price):\n",
    "        self.ticket_id = ticket_id\n",
    "        self.event_name = event_name\n",
    "        self.event_date = event_date\n",
    "        self.venue = venue\n",
    "        self.seat_number = seat_number\n",
    "        self.price = price\n",
    "        self.is_reserved = False\n",
    "\n",
    "    def reserve_ticket(self):\n",
    "        if not self.is_reserved:\n",
    "            self.is_reserved = True\n",
    "            print(f\"Ticket {self.ticket_id} is now reserved.\")\n",
    "        else:\n",
    "            print(f\"Ticket {self.ticket_id} is already reserved.\")\n",
    "\n",
    "    def cancel_reservation(self):\n",
    "        if self.is_reserved:\n",
    "            self.is_reserved = False\n",
    "            print(f\"Reservation for Ticket {self.ticket_id} is canceled.\")\n",
    "        else:\n",
    "            print(f\"Ticket {self.ticket_id} is not reserved, so cannot cancel reservation.\")\n",
    "\n",
    "    def display_ticket_info(self):\n",
    "        reservation_status = \"Reserved\" if self.is_reserved else \"Not Reserved\"\n",
    "        print(f\"Ticket ID: {self.ticket_id}\")\n",
    "        print(f\"Event Name: {self.event_name}\")\n",
    "        print(f\"Event Date: {self.event_date}\")\n",
    "        print(f\"Venue: {self.venue}\")\n",
    "        print(f\"Seat Number: {self.seat_number}\")\n",
    "        print(f\"Price: {self.price}\")\n",
    "        print(f\"Reservation Status: {reservation_status}\")\n",
    "\n",
    "\n",
    "ticket1 = Ticket(1, \"Concert\", \"2023-10-15\", \"Main Hall\", \"A12\", 50.0)\n",
    "\n",
    "ticket1.display_ticket_info()\n",
    "ticket1.reserve_ticket()\n",
    "ticket1.reserve_ticket()\n",
    "ticket1.cancel_reservation()\n",
    "ticket1.cancel_reservation()\n",
    "ticket1.display_ticket_info()\n"
   ]
  },
  {
   "cell_type": "markdown",
   "id": "950aab00",
   "metadata": {},
   "source": [
    "## Q-9. You are creating a shopping cart for an e-commerce website. Using OOP to model\n",
    "    the \"ShoppingCart\" functionality the class should contain following attributes and\n",
    "    methods:\n",
    "    \n",
    "    a. items: Represents the list of items in the shopping cart.\n",
    "    The class also includes the following methods:\n",
    "\n",
    "    a. add_item(self, item): Adds an item to the shopping cart by appending it to the\n",
    "    list of items.\n",
    "    \n",
    "    b. remove_item(self, item): Removes an item from the shopping cart if it exists in\n",
    "    the list.\n",
    "    \n",
    "    c. view_cart(self): Displays the items currently present in the shopping cart.\n",
    "    \n",
    "    d. clear_cart(self): Clears all items from the shopping cart by reassigning an\n",
    "    empty list to the items attribute.\n",
    "    \n",
    "#### ANS-9"
   ]
  },
  {
   "cell_type": "code",
   "execution_count": 6,
   "id": "7170f4fc",
   "metadata": {},
   "outputs": [
    {
     "name": "stdout",
     "output_type": "stream",
     "text": [
      "Added Toothpaste to the shopping cart.\n",
      "Added shampoo to the shopping cart.\n",
      "Added detergents to the shopping cart.\n",
      "Items in the shopping cart:\n",
      "Toothpaste\n",
      "shampoo\n",
      "detergents\n",
      "Removed shampoo from the shopping cart.\n",
      "Items in the shopping cart:\n",
      "Toothpaste\n",
      "detergents\n",
      "The shopping cart is now empty.\n",
      "The shopping cart is empty.\n"
     ]
    }
   ],
   "source": [
    "class ShoppingCart:\n",
    "    def __init__(self):\n",
    "        self.items = []\n",
    "\n",
    "    def add_item(self, item):\n",
    "        self.items.append(item)\n",
    "        print(f\"Added {item} to the shopping cart.\")\n",
    "\n",
    "    def remove_item(self, item):\n",
    "        if item in self.items:\n",
    "            self.items.remove(item)\n",
    "            print(f\"Removed {item} from the shopping cart.\")\n",
    "        else:\n",
    "            print(f\"{item} is not in the shopping cart.\")\n",
    "\n",
    "    def view_cart(self):\n",
    "        if not self.items:\n",
    "            print(\"The shopping cart is empty.\")\n",
    "        else:\n",
    "            print(\"Items in the shopping cart:\")\n",
    "            for item in self.items:\n",
    "                print(item)\n",
    "\n",
    "    def clear_cart(self):\n",
    "        self.items = []\n",
    "        print(\"The shopping cart is now empty.\")\n",
    "\n",
    "\n",
    "\n",
    "cart = ShoppingCart()\n",
    "\n",
    "\n",
    "cart.add_item(\"Toothpaste\")\n",
    "cart.add_item(\"shampoo\")\n",
    "cart.add_item(\"detergents\")\n",
    "cart.view_cart()\n",
    "\n",
    "cart.remove_item(\"shampoo\")\n",
    "cart.view_cart()\n",
    "cart.clear_cart()\n",
    "cart.view_cart()\n"
   ]
  },
  {
   "cell_type": "markdown",
   "id": "06bf16ec",
   "metadata": {},
   "source": [
    "## Q-10.10. Imagine a school management system. You have to design the \"Student\" class using OOP concepts.The “Student” class has the following attributes:\n",
    "\n",
    "    a. name: Represents the name of the student.\n",
    "    b. age: Represents the age of the student.\n",
    "    c. grade: Represents the grade or class of the student.\n",
    "    d. student_id: Represents the unique identifier for the student.\n",
    "    e. attendance: Represents the attendance record of the student.\n",
    "    \n",
    "    The class should also include the following methods:\n",
    "    \n",
    "    a. update_attendance(self, date, status): Updates the attendance record of the\n",
    "    student for a given date with the provided status (e.g., present or absent).\n",
    "    b. get_attendance(self): Returns the attendance record of the student.\n",
    "    c. get_average_attendance(self): Calculates and returns the average\n",
    "    attendance percentage of the student based on their attendance record.\n",
    "    \n",
    "#### ANS-10"
   ]
  },
  {
   "cell_type": "code",
   "execution_count": 9,
   "id": "d01cfbd1",
   "metadata": {},
   "outputs": [
    {
     "name": "stdout",
     "output_type": "stream",
     "text": [
      "Abhishek Anand's attendance on 2023-09-10 is updated: Present.\n",
      "Abhishek Anand's attendance on 2023-09-11 is updated: Absent.\n",
      "Abhishek Anand's attendance on 2023-09-12 is updated: Present.\n",
      "Abhishek Anand's Attendance Record:\n",
      "2023-09-10: Present\n",
      "2023-09-11: Absent\n",
      "2023-09-12: Present\n",
      "Abhishek Anand's Average Attendance Percentage: 66.67%\n"
     ]
    }
   ],
   "source": [
    "class Student:\n",
    "    def __init__(self, name, age, grade, student_id):\n",
    "    \n",
    "        self.name = name\n",
    "        self.age = age\n",
    "        self.grade = grade\n",
    "        self.student_id = student_id\n",
    "        self.attendance = {} \n",
    "\n",
    "    def update_attendance(self, date, status):\n",
    "        \n",
    "        if status.lower() in [\"present\", \"absent\"]:\n",
    "            self.attendance[date] = status.lower()\n",
    "            print(f\"{self.name}'s attendance on {date} is updated: {status.capitalize()}.\")\n",
    "        else:\n",
    "            print(\"Invalid attendance status. Use 'present' or 'absent'.\")\n",
    "\n",
    "    def get_attendance(self):\n",
    "        return self.attendance\n",
    "\n",
    "    def get_average_attendance(self):\n",
    "        if not self.attendance:\n",
    "            return 0.0  # Return 0 if no attendance records are available\n",
    "\n",
    "        total_days = len(self.attendance)\n",
    "        present_count = sum(1 for status in self.attendance.values() if status == \"present\")\n",
    "        average_percentage = (present_count / total_days) * 100\n",
    "        return average_percentage\n",
    "\n",
    "\n",
    "\n",
    "\n",
    "student1 = Student(\"Abhishek Anand\", 15, \"Grade 9\", \"S12345\")\n",
    "\n",
    "student1.update_attendance(\"2023-09-10\", \"present\")\n",
    "student1.update_attendance(\"2023-09-11\", \"absent\")\n",
    "student1.update_attendance(\"2023-09-12\", \"present\")\n",
    "\n",
    "\n",
    "attendance_record = student1.get_attendance()\n",
    "print(f\"{student1.name}'s Attendance Record:\")\n",
    "for date, status in attendance_record.items():\n",
    "    print(f\"{date}: {status.capitalize()}\")\n",
    "\n",
    "\n",
    "average_attendance = student1.get_average_attendance()\n",
    "print(f\"{student1.name}'s Average Attendance Percentage: {average_attendance:.2f}%\")\n"
   ]
  },
  {
   "cell_type": "markdown",
   "id": "857e87b4",
   "metadata": {},
   "source": [
    "# THANK YOU!"
   ]
  }
 ],
 "metadata": {
  "kernelspec": {
   "display_name": "Python 3 (ipykernel)",
   "language": "python",
   "name": "python3"
  },
  "language_info": {
   "codemirror_mode": {
    "name": "ipython",
    "version": 3
   },
   "file_extension": ".py",
   "mimetype": "text/x-python",
   "name": "python",
   "nbconvert_exporter": "python",
   "pygments_lexer": "ipython3",
   "version": "3.9.12"
  }
 },
 "nbformat": 4,
 "nbformat_minor": 5
}
