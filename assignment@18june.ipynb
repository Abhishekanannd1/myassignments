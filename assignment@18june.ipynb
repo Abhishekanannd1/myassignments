{
 "cells": [
  {
   "cell_type": "markdown",
   "id": "ca5ad52b",
   "metadata": {},
   "source": [
    "## Q-1. What is the role of the 'else' block in a try-except statement? Provide an example scenario where it would be useful.\n",
    "\n",
    "#### ANS-1\n",
    "\n",
    "    The else block in a try-except statement is executed when no exceptions are raised within the corresponding try block.\n",
    "    It provides a way to specify code that should run only if the try block completes without any exceptions."
   ]
  },
  {
   "cell_type": "code",
   "execution_count": 3,
   "id": "0789cd49",
   "metadata": {},
   "outputs": [
    {
     "name": "stdout",
     "output_type": "stream",
     "text": [
      "Enter the first number: 20\n",
      "Enter the second number: 4\n",
      "Division result: 5.0\n"
     ]
    }
   ],
   "source": [
    "try:\n",
    "    num1 = int(input(\"Enter the first number: \"))\n",
    "    num2 = int(input(\"Enter the second number: \"))\n",
    "    result = num1 / num2\n",
    "except ValueError:\n",
    "    print(\"Error: Invalid input. Please enter valid integers.\")\n",
    "except ZeroDivisionError:\n",
    "    print(\"Error: Cannot divide by zero.\")\n",
    "else:\n",
    "    print(\"Division result:\", result)\n"
   ]
  },
  {
   "cell_type": "markdown",
   "id": "a9eb223a",
   "metadata": {},
   "source": [
    "## Q-2. Can a try-except block be nested inside another try-except block? Explain with an example.\n",
    "\n",
    "#### ANS-2\n",
    "\n",
    "    Yes, a try-except block can be nested inside another try-except block. This is known as nested exception handling. \n",
    "    \n",
    "    Like,"
   ]
  },
  {
   "cell_type": "code",
   "execution_count": 5,
   "id": "398fa921",
   "metadata": {},
   "outputs": [
    {
     "name": "stdout",
     "output_type": "stream",
     "text": [
      "Enter the first number: 9\n",
      "Enter the second number: 0\n",
      "Cannot divide by zero in inner try block.\n"
     ]
    }
   ],
   "source": [
    "try:\n",
    "    num1 = int(input(\"Enter the first number: \"))\n",
    "    num2 = int(input(\"Enter the second number: \"))\n",
    "\n",
    "    try:\n",
    "        result = num1 / num2\n",
    "        print(\"Division result:\", result)\n",
    "    except ZeroDivisionError:\n",
    "        print(\"Cannot divide by zero in inner try block.\")\n",
    "\n",
    "except ValueError:\n",
    "    print(\"Invalid input. Please enter valid integers in outer try block.\")\n"
   ]
  },
  {
   "cell_type": "markdown",
   "id": "db90c102",
   "metadata": {},
   "source": [
    "## Q-3. How can you create a custom exception class in Python? Provide an example that demonstrates its usage.\n",
    "\n",
    "#### ANS-3\n",
    "\n",
    "    A custom exception class can be created by defining a new class that inherits from the built-in Exception class or any \n",
    "    of its subclasses. By creating a custom exception class."
   ]
  },
  {
   "cell_type": "code",
   "execution_count": 8,
   "id": "9437af78",
   "metadata": {},
   "outputs": [
    {
     "name": "stdout",
     "output_type": "stream",
     "text": [
      "Enter a positive number: -9\n",
      "Error: The number should be positive.\n"
     ]
    }
   ],
   "source": [
    "class CustomException(Exception):\n",
    "    pass\n",
    "\n",
    "try:\n",
    "    num = int(input(\"Enter a positive number: \"))\n",
    "    \n",
    "    if num <= 0:\n",
    "        raise CustomException(\"Error: The number should be positive.\")\n",
    "    else:\n",
    "        print(\"Number:\", num)\n",
    "\n",
    "except CustomException as ce:\n",
    "    print(ce)\n"
   ]
  },
  {
   "cell_type": "markdown",
   "id": "ff552adc",
   "metadata": {},
   "source": [
    "## Q-4. What are some common exceptions that are built-in to Python?\n",
    "\n",
    "#### ANS-4\n",
    "\n",
    "    Some common exceptions in python are:-\n",
    "\n",
    "    TypeError: Raised when an operation or function is performed on an object of an inappropriate type.\n",
    "    \n",
    "    ValueError: Raised when a function receives an argument of the correct type but with an invalid value.\n",
    "    \n",
    "    NameError: Raised when a local or global name is not found.\n",
    "    \n",
    "    IndexError: Raised when a sequence subscript is out of range.\n",
    "    \n",
    "    KeyError: Raised when a dictionary key is not found.\n",
    "    \n",
    "    FileNotFoundError: Raised when an attempt is made to open a file that does not exist.\n",
    "    \n",
    "    ZeroDivisionError: Raised when division or modulo operation is performed with zero as the divisor.\n",
    "    \n",
    "    SyntaxError: Raised when a syntax error is encountered.\n",
    "    \n",
    "    AttributeError: Raised when an attribute reference or assignment fails.\n",
    "    \n",
    "    ImportError: Raised when an import statement fails to find the specified module.\n",
    "    \n",
    "    OverflowError: Raised when a mathematical operation results in a value that is too large to be represented.\n",
    "    \n",
    "\n",
    "\n",
    "\n",
    "\n",
    "\n",
    "\n"
   ]
  },
  {
   "cell_type": "markdown",
   "id": "fb7f727e",
   "metadata": {},
   "source": [
    "## Q-5. What is logging in Python, and why is it important in software development?\n",
    "\n",
    "#### ANS-5\n",
    "\n",
    "    Logging in Python is a mechanism that allows developers to record and store information about the execution of a program. It provides a way to capture and save messages, warnings, errors, and other relevant information during runtime.\n",
    "\n",
    "    Logging is important in software development for several reasons:\n",
    "\n",
    "     Debugging and troubleshooting: Logging helps in identifying and resolving issues in a program. By logging relevant information, developers can track the flow of execution, identify the sequence of events leading to an error, and gain insights into the program's behavior.\n",
    "\n",
    "    Monitoring and auditing: Logging enables monitoring the performance and health of an application in production. By logging key metrics, such as request/response times, resource utilization, and system events, developers can analyze and optimize the application's performance. Logs also serve as an audit trail for security and compliance purposes.\n",
    "\n",
    "     Error and exception tracking: Logging provides a centralized record of errors and exceptions that occur during program execution. Developers can log stack traces, error messages, and contextual information to diagnose and fix issues. These logs can be used for post-mortem analysis and improving the reliability of the software.\n",
    "\n",
    "    Python provides a powerful logging module in its standard library, which offers various logging levels, log formatting, and log handlers (e.g., file-based logs, console logs, network logs). "
   ]
  },
  {
   "cell_type": "markdown",
   "id": "c13e8dd2",
   "metadata": {},
   "source": [
    "## Q-6. Explain the purpose of log levels in Python logging and provide examples of when each log level would be appropriate.\n",
    "\n",
    "#### ANS-6\n",
    "    In Python logging, log levels are used to categorize log messages based on their severity or importance. Each log level represents a different level of granularity and provides a way to control which log messages are recorded and displayed.\n",
    "    \n",
    "    DEBUG:  The lowest log level used for detailed information about the program's execution flow, variable values,\n",
    "    primarily useful for debugging purposes.\n",
    "    \n",
    "    Example usage: Logging variable values, function calls, or specific steps during code execution for debugging purposes.\n",
    "    \n",
    "    like,"
   ]
  },
  {
   "cell_type": "code",
   "execution_count": 9,
   "id": "076c4cf6",
   "metadata": {},
   "outputs": [
    {
     "name": "stderr",
     "output_type": "stream",
     "text": [
      "DEBUG:root:Calculating sum of 10 and 5\n",
      "DEBUG:root:Sum: 15\n",
      "DEBUG:root:Final result: 15\n"
     ]
    }
   ],
   "source": [
    "import logging\n",
    "\n",
    "logging.basicConfig(level=logging.DEBUG)\n",
    "\n",
    "def calculate(x, y):\n",
    "    logging.debug(f\"Calculating sum of {x} and {y}\")\n",
    "    result = x + y\n",
    "    logging.debug(f\"Sum: {result}\")\n",
    "    return result\n",
    "\n",
    "num1 = 10\n",
    "num2 = 5\n",
    "result = calculate(num1, num2)\n",
    "logging.debug(f\"Final result: {result}\")\n"
   ]
  },
  {
   "cell_type": "markdown",
   "id": "d19079c7",
   "metadata": {},
   "source": [
    "    INFO: A general information log level that provides confirmation that things are functioning as expected.\n",
    "    Example usage: Logging application startup, successful initialization, or significant milestones during program \n",
    "    execution.\n",
    "    \n",
    "    like,"
   ]
  },
  {
   "cell_type": "code",
   "execution_count": 11,
   "id": "237b0de8",
   "metadata": {},
   "outputs": [
    {
     "name": "stderr",
     "output_type": "stream",
     "text": [
      "INFO:root:Starting the application\n",
      "INFO:root:Loading data from the database\n",
      "INFO:root:Processing the data\n",
      "INFO:root:Application completed successfully\n"
     ]
    }
   ],
   "source": [
    "import logging\n",
    "\n",
    "logging.basicConfig(level=logging.INFO)\n",
    "\n",
    "def load_data():\n",
    "    logging.info(\"Loading data from the database\")\n",
    "    # Code to load data\n",
    "\n",
    "def process_data():\n",
    "    logging.info(\"Processing the data\")\n",
    "\n",
    "\n",
    "logging.info(\"Starting the application\")\n",
    "load_data()\n",
    "process_data()\n",
    "logging.info(\"Application completed successfully\")\n"
   ]
  },
  {
   "cell_type": "markdown",
   "id": "c280e253",
   "metadata": {},
   "source": [
    "    WARNING: Used to indicate potential issues or situations that could cause problems but are not critical. Warnings highlight conditions that deviate from the normal flow but are not severe enough to cause a failure. \n",
    "    \n",
    "    Example usage: Logging deprecated features, non-fatal errors, or unexpected but recoverable conditions.\n",
    "    \n",
    "    like,"
   ]
  },
  {
   "cell_type": "code",
   "execution_count": 13,
   "id": "debd7da1",
   "metadata": {},
   "outputs": [
    {
     "name": "stderr",
     "output_type": "stream",
     "text": [
      "WARNING:root:This function is deprecated and will be removed in the future\n",
      "WARNING:root:Connection to the database failed\n"
     ]
    }
   ],
   "source": [
    "import logging\n",
    "\n",
    "logging.basicConfig(level=logging.WARNING)\n",
    "\n",
    "def deprecated_function():\n",
    "    logging.warning(\"This function is deprecated and will be removed in the future\")\n",
    "    # Deprecated function logic\n",
    "\n",
    "def connect_to_database():\n",
    "    # Code to connect to the database\n",
    "    connection_successful = False  # Simulating a failed connection\n",
    "    if not connection_successful:\n",
    "        logging.warning(\"Connection to the database failed\")\n",
    "\n",
    "deprecated_function()\n",
    "connect_to_database()\n"
   ]
  },
  {
   "cell_type": "markdown",
   "id": "acc0aee0",
   "metadata": {},
   "source": [
    "    ERROR: Represents errors that caused a failure or unexpected behavior, but the program can still continue execution. These log messages indicate critical issues that may impact the program's functionality.\n",
    "    \n",
    "    Example usage: Logging exceptions, failed operations, or errors that require immediate attention but do not halt the program.\n",
    "    \n",
    "    like,"
   ]
  },
  {
   "cell_type": "code",
   "execution_count": 14,
   "id": "03105d70",
   "metadata": {},
   "outputs": [
    {
     "name": "stderr",
     "output_type": "stream",
     "text": [
      "ERROR:root:Division by zero occurred\n",
      "ERROR:root:Error occurred during division\n"
     ]
    }
   ],
   "source": [
    "import logging\n",
    "\n",
    "logging.basicConfig(level=logging.ERROR)\n",
    "\n",
    "def divide(x, y):\n",
    "    try:\n",
    "        result = x / y\n",
    "    except ZeroDivisionError:\n",
    "        logging.error(\"Division by zero occurred\")\n",
    "        result = None\n",
    "    return result\n",
    "\n",
    "numerator = 10\n",
    "denominator = 0\n",
    "result = divide(numerator, denominator)\n",
    "if result is None:\n",
    "    logging.error(\"Error occurred during division\")\n"
   ]
  },
  {
   "cell_type": "markdown",
   "id": "6952211a",
   "metadata": {},
   "source": [
    "    CRITICAL: The highest log level used to indicate critical errors that prevent the program from continuing execution. These log messages indicate severe failures that require immediate attention.\n",
    "    \n",
    "    Example usage: Logging unrecoverable errors, system failures, or conditions that render the program unusable.\n",
    "    \n",
    "    like,"
   ]
  },
  {
   "cell_type": "code",
   "execution_count": 16,
   "id": "0a53f93b",
   "metadata": {},
   "outputs": [
    {
     "name": "stderr",
     "output_type": "stream",
     "text": [
      "CRITICAL:root:Critical condition detected. Aborting operation.\n",
      "CRITICAL:root:System initialization failed. Exiting program.\n"
     ]
    }
   ],
   "source": [
    "import logging\n",
    "\n",
    "logging.basicConfig(level=logging.CRITICAL)\n",
    "\n",
    "def perform_critical_operation():\n",
    "    # Code for performing a critical operation\n",
    "    critical_condition = True  # Simulating a critical condition\n",
    "    if critical_condition:\n",
    "        logging.critical(\"Critical condition detected. Aborting operation.\")\n",
    "        # Code to handle the critical condition and abort the operation\n",
    "\n",
    "def initialize_system():\n",
    "    # Code for initializing the system\n",
    "    initialization_failed = True  # Simulating initialization failure\n",
    "    if initialization_failed:\n",
    "        logging.critical(\"System initialization failed. Exiting program.\")\n",
    "        # Code to handle the initialization failure and exit the program\n",
    "\n",
    "perform_critical_operation()\n",
    "initialize_system()\n"
   ]
  },
  {
   "cell_type": "markdown",
   "id": "7fafe15a",
   "metadata": {},
   "source": [
    "## Q-7. What are log formatters in Python logging, and how can you customise the log message format using formatters?\n",
    "\n",
    "#### ANS-7\n",
    "\n",
    "    Log formatters are objects that define the structure and content of log messages. They allow developers to customize the format of log records, specifying what information should be included in each log message and how it should be \n",
    "    displayed.\n",
    "    \n",
    "    To customise the log message using formatters is done like,"
   ]
  },
  {
   "cell_type": "code",
   "execution_count": 18,
   "id": "ff120996",
   "metadata": {},
   "outputs": [
    {
     "name": "stderr",
     "output_type": "stream",
     "text": [
      "DEBUG:root:This is a debug message\n",
      "[2023-07-07 00:47:34,119] DEBUG - This is a debug message\n",
      "[2023-07-07 00:47:34,119] DEBUG - This is a debug message\n",
      "INFO:root:This is an info message\n",
      "[2023-07-07 00:47:34,123] INFO - This is an info message\n",
      "[2023-07-07 00:47:34,123] INFO - This is an info message\n",
      "WARNING:root:This is a warning message\n",
      "[2023-07-07 00:47:34,125] WARNING - This is a warning message\n",
      "[2023-07-07 00:47:34,125] WARNING - This is a warning message\n",
      "ERROR:root:This is an error message\n",
      "[2023-07-07 00:47:34,127] ERROR - This is an error message\n",
      "[2023-07-07 00:47:34,127] ERROR - This is an error message\n",
      "CRITICAL:root:This is a critical message\n",
      "[2023-07-07 00:47:34,128] CRITICAL - This is a critical message\n",
      "[2023-07-07 00:47:34,128] CRITICAL - This is a critical message\n"
     ]
    }
   ],
   "source": [
    "import logging\n",
    "\n",
    "# Create a new log formatter\n",
    "formatter = logging.Formatter('[%(asctime)s] %(levelname)s - %(message)s')\n",
    "\n",
    "# Create a log handler and assign the formatter\n",
    "handler = logging.StreamHandler()\n",
    "handler.setFormatter(formatter)\n",
    "\n",
    "# Configure the logger to use the handler\n",
    "logger = logging.getLogger()\n",
    "logger.addHandler(handler)\n",
    "\n",
    "# Log messages at different levels\n",
    "logger.debug(\"This is a debug message\")\n",
    "logger.info(\"This is an info message\")\n",
    "logger.warning(\"This is a warning message\")\n",
    "logger.error(\"This is an error message\")\n",
    "logger.critical(\"This is a critical message\")\n"
   ]
  },
  {
   "cell_type": "markdown",
   "id": "bdd0d798",
   "metadata": {},
   "source": [
    "## Q-8. How can you set up logging to capture log messages from multiple modules or classes in a Python application?\n",
    "\n",
    "#### ANS-8\n",
    "\n",
    "    To capture log messages from multiple modules or classes in a Python application, logging with a hierarchical logger hierarchy is set uped. This allows to define loggers for different modules or classes and configure them to propagate log messages to parent loggers or handlers as needed.\n",
    "    \n",
    "    like,"
   ]
  },
  {
   "cell_type": "code",
   "execution_count": 19,
   "id": "591a378d",
   "metadata": {},
   "outputs": [
    {
     "name": "stderr",
     "output_type": "stream",
     "text": [
      "DEBUG:module1:This is a debug message from module1\n",
      "[2023-07-07 00:51:03,193] DEBUG - This is a debug message from module1\n",
      "[2023-07-07 00:51:03,193] DEBUG - This is a debug message from module1\n",
      "INFO:module1:This is an info message from module1\n",
      "[2023-07-07 00:51:03,195] INFO - This is an info message from module1\n",
      "[2023-07-07 00:51:03,195] INFO - This is an info message from module1\n",
      "WARNING:module2:This is a warning message from module2\n",
      "[2023-07-07 00:51:03,198] WARNING - This is a warning message from module2\n",
      "[2023-07-07 00:51:03,198] WARNING - This is a warning message from module2\n",
      "ERROR:module2:This is an error message from module2\n",
      "[2023-07-07 00:51:03,201] ERROR - This is an error message from module2\n",
      "[2023-07-07 00:51:03,201] ERROR - This is an error message from module2\n"
     ]
    }
   ],
   "source": [
    "import logging\n",
    "\n",
    "# Configure the root logger\n",
    "logging.basicConfig(level=logging.DEBUG)\n",
    "\n",
    "# Create loggers for specific modules or classes\n",
    "logger_module1 = logging.getLogger('module1')\n",
    "logger_module2 = logging.getLogger('module2')\n",
    "\n",
    "# Configure handlers for the loggers\n",
    "handler_module1 = logging.FileHandler('module1.log')\n",
    "handler_module2 = logging.FileHandler('module2.log')\n",
    "\n",
    "# Configure formatters for the handlers\n",
    "formatter = logging.Formatter('%(asctime)s - %(levelname)s - %(name)s - %(message)s')\n",
    "handler_module1.setFormatter(formatter)\n",
    "handler_module2.setFormatter(formatter)\n",
    "\n",
    "# Add handlers to the loggers\n",
    "logger_module1.addHandler(handler_module1)\n",
    "logger_module2.addHandler(handler_module2)\n",
    "\n",
    "# Log messages from module1\n",
    "logger_module1.debug(\"This is a debug message from module1\")\n",
    "logger_module1.info(\"This is an info message from module1\")\n",
    "\n",
    "# Log messages from module2\n",
    "logger_module2.warning(\"This is a warning message from module2\")\n",
    "logger_module2.error(\"This is an error message from module2\")\n"
   ]
  },
  {
   "cell_type": "markdown",
   "id": "1801c2b8",
   "metadata": {},
   "source": [
    "## Q-9. What is the difference between the logging and print statements in Python? When should you use logging over print statements in a real-world application?\n",
    "\n",
    "#### ANS-9\n",
    "\n",
    "     The main differences between logging and print statements in Python are that logging allows for more flexibility in directing output to different destinations, such as log files; provides granular control with different log levels for filtering messages; offers built-in log formatting and structure; allows for dynamic configuration at runtime; promotes maintainable and clean code by separating debugging output; and is optimized for performance and large volumes of log messages.\n",
    "      On the other hand, print statements simply write output to the console and are typically used for temporary debugging or quick information display during development. Logging is recommended in real-world applications for its debugging capabilities, flexibility, configurability, maintainability, and performance optimizations.\n",
    "\n",
    "       Consider a web application deployed on a production server that serves multiple users concurrently. In this scenario, using logging instead of print statements offers several advantages:\n",
    "       Using logging over print statements in a real-world application allows for effective debugging, separation of concerns, log level filtering, log analysis, and flexibility in log configuration. It helps in maintaining a robust and scalable application while providing valuable insights into its behavior in production environments.\n"
   ]
  },
  {
   "cell_type": "markdown",
   "id": "1b373d06",
   "metadata": {},
   "source": [
    "## Q-10. Write a Python program that logs a message to a file named \"app.log\" with the following requirements:\n",
    "\n",
    "    ● The log message should be \"Hello, World!\"\n",
    "    ● The log level should be set to \"INFO.\"\n",
    "    ● The log file should append new log entries without overwriting previous ones.\n",
    "    \n",
    "#### ANS-10"
   ]
  },
  {
   "cell_type": "code",
   "execution_count": 20,
   "id": "3561850f",
   "metadata": {},
   "outputs": [
    {
     "name": "stderr",
     "output_type": "stream",
     "text": [
      "INFO:root:Hello, World!\n",
      "[2023-07-07 01:07:09,785] INFO - Hello, World!\n",
      "[2023-07-07 01:07:09,785] INFO - Hello, World!\n"
     ]
    }
   ],
   "source": [
    "import logging\n",
    "\n",
    "logging.basicConfig(filename='app.log', level=logging.INFO, filemode='a')\n",
    "\n",
    "# Log the message\n",
    "logging.info(\"Hello, World!\")\n"
   ]
  },
  {
   "cell_type": "markdown",
   "id": "615232e7",
   "metadata": {},
   "source": [
    "## Q-11.Create a Python program that logs an error message to the console and a file named \"errors.log\" if an exception occurs during the program's execution. The error message should include the exception type and a timestamp.\n",
    "\n",
    "#### ANS-11"
   ]
  },
  {
   "cell_type": "code",
   "execution_count": 21,
   "id": "5e38ee02",
   "metadata": {},
   "outputs": [
    {
     "name": "stderr",
     "output_type": "stream",
     "text": [
      "ERROR:root:Exception Type: ValueError, Timestamp: 2023-07-07 01:10:42.815769\n",
      "[2023-07-07 01:10:42,815] ERROR - Exception Type: ValueError, Timestamp: 2023-07-07 01:10:42.815769\n",
      "[2023-07-07 01:10:42,815] ERROR - Exception Type: ValueError, Timestamp: 2023-07-07 01:10:42.815769\n"
     ]
    }
   ],
   "source": [
    "import logging\n",
    "import datetime\n",
    "\n",
    "\n",
    "logging.basicConfig(level=logging.ERROR, format='%(asctime)s - %(levelname)s - %(message)s')\n",
    "file_handler = logging.FileHandler('errors.log')\n",
    "file_handler.setLevel(logging.ERROR)\n",
    "logging.getLogger().addHandler(file_handler)\n",
    "\n",
    "try:\n",
    "    # Code that may raise an exception\n",
    "    # For example:\n",
    "    # num = 10 / 0\n",
    "\n",
    "    # Simulating an exception for demonstration purposes\n",
    "    raise ValueError(\"An example exception occurred!\")\n",
    "\n",
    "except Exception as e:\n",
    "    # Log the exception message along with the exception type and timestamp\n",
    "    error_message = f\"Exception Type: {type(e).__name__}, Timestamp: {datetime.datetime.now()}\"\n",
    "    logging.error(error_message)\n"
   ]
  },
  {
   "cell_type": "markdown",
   "id": "2b9b3e62",
   "metadata": {},
   "source": [
    "# THANK YOU!"
   ]
  }
 ],
 "metadata": {
  "kernelspec": {
   "display_name": "Python 3 (ipykernel)",
   "language": "python",
   "name": "python3"
  },
  "language_info": {
   "codemirror_mode": {
    "name": "ipython",
    "version": 3
   },
   "file_extension": ".py",
   "mimetype": "text/x-python",
   "name": "python",
   "nbconvert_exporter": "python",
   "pygments_lexer": "ipython3",
   "version": "3.9.12"
  }
 },
 "nbformat": 4,
 "nbformat_minor": 5
}
