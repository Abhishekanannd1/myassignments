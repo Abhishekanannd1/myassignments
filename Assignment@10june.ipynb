{
 "cells": [
  {
   "cell_type": "markdown",
   "id": "70242460",
   "metadata": {},
   "source": [
    "## Q-1.In Python, what is the difference between a built-in function and a user-defined function? Provide an example of each."
   ]
  },
  {
   "cell_type": "markdown",
   "id": "1fb9f570",
   "metadata": {},
   "source": [
    "#### ANS-1\n",
    "\n",
    "    Built-in Function:\n",
    "    \n",
    "    Built-in functions are pre-defined functions that are available in Python's standard library.\n",
    "    These functions are ready to use and provide common functionalities for various tasks.\n",
    "\n",
    "    Examples of built-in functions include print(), len(), type(), range(), etc."
   ]
  },
  {
   "cell_type": "code",
   "execution_count": 1,
   "id": "b9bff9ce",
   "metadata": {},
   "outputs": [
    {
     "name": "stdout",
     "output_type": "stream",
     "text": [
      "5\n"
     ]
    }
   ],
   "source": [
    "num_list = [1, 2, 3, 4, 5]\n",
    "length = len(num_list)  # len() is a built-in function to get the length of a list\n",
    "print(length) \n"
   ]
  },
  {
   "cell_type": "markdown",
   "id": "b5dc66b0",
   "metadata": {},
   "source": [
    "    User-defined Function:\n",
    "\n",
    "    User-defined functions are created by the user to perform specific tasks as per their requirements.\n",
    "    These functions are defined using the def keyword followed by a function name, parameters, and a block of code.\n",
    "    "
   ]
  },
  {
   "cell_type": "code",
   "execution_count": 5,
   "id": "36ec2dd9",
   "metadata": {},
   "outputs": [
    {
     "name": "stdout",
     "output_type": "stream",
     "text": [
      "125\n"
     ]
    }
   ],
   "source": [
    "def calculate_cube(num):            # Defining a user-defined function named calculate_cube \n",
    "    cube= num ** 3\n",
    "    return cube\n",
    "\n",
    "result = calculate_cube(5)         \n",
    "print(result)  \n"
   ]
  },
  {
   "cell_type": "markdown",
   "id": "9ecc0772",
   "metadata": {},
   "source": [
    "## Q-2. How can you pass arguments to a function in Python? Explain the difference between positional arguments and keyword arguments."
   ]
  },
  {
   "cell_type": "markdown",
   "id": "9ebc5816",
   "metadata": {},
   "source": [
    "#### ANS-2\n",
    "\n",
    "  \n",
    "    Arguments are passed inside the parentheses when calling a function. They can be constants, variables, or expressions.   The arguments are received by the function through parameters, which are declared in the function's definition.\n",
    "\n",
    "    There are different ways to pass arguments to a function in Python:\n",
    "\n",
    "    Positional Arguments: Arguments are matched to parameters based on their order of appearance, which is passing first parametere is passed first and so on.\n",
    "    \n",
    "    like,\n",
    "    "
   ]
  },
  {
   "cell_type": "code",
   "execution_count": 7,
   "id": "0ed2cacb",
   "metadata": {},
   "outputs": [
    {
     "name": "stdout",
     "output_type": "stream",
     "text": [
      "Sum: 15\n"
     ]
    }
   ],
   "source": [
    "def add_numbers(a, b):\n",
    "    result = a + b\n",
    "    print(\"Sum:\", result)\n",
    "\n",
    "add_numbers(10, 5) \n"
   ]
  },
  {
   "cell_type": "markdown",
   "id": "bab64fb8",
   "metadata": {},
   "source": [
    "    Keyword Arguments: Arguments are passed using the parameter names explicitly, allow to specify values for specific parameters.Each argument is assigned to the corresponding parameter based on their names.\n",
    "\n",
    "    Like,"
   ]
  },
  {
   "cell_type": "code",
   "execution_count": 17,
   "id": "6b6978c1",
   "metadata": {},
   "outputs": [
    {
     "name": "stdout",
     "output_type": "stream",
     "text": [
      "5.0\n"
     ]
    }
   ],
   "source": [
    "def division(divident, divisor):\n",
    "    quotient= divident/divisor\n",
    "    return quotient\n",
    "\n",
    "# Using keyword arguments\n",
    "result = division(divisor=20,divident=100)\n",
    "print( result)  \n"
   ]
  },
  {
   "cell_type": "markdown",
   "id": "d948760c",
   "metadata": {},
   "source": [
    "## Q-3. What is the purpose of the return statement in a function? Can a function have multiple return statements? Explain with an example.\n",
    "\n",
    "#### ANS-3\n",
    "\n",
    "    The purpose of return value is to return a value back to the caller after executing its logic. When a function reaches a return statement, it terminates the function's execution and sends the specified value (or values) back to the point where the function was called.It allows the function to pass data back to the caller, which can be used for further processing or assignments.\n",
    "    \n",
    "    A function can have multiple return statements, and the execution of the function will terminate as soon as a return statement is encountered.\n",
    "    \n",
    "    Using return statement in followoing example,"
   ]
  },
  {
   "cell_type": "code",
   "execution_count": 19,
   "id": "e2d90e1a",
   "metadata": {},
   "outputs": [
    {
     "name": "stdout",
     "output_type": "stream",
     "text": [
      "4 is Even\n",
      "7 is Odd\n"
     ]
    }
   ],
   "source": [
    "def check_even_odd(number):\n",
    "    if number % 2 == 0:\n",
    "        return \"Even\"\n",
    "    else:\n",
    "        return \"Odd\"\n",
    "\n",
    "num1 = 4\n",
    "num2 = 7\n",
    "\n",
    "result1 = check_even_odd(num1)\n",
    "result2 = check_even_odd(num2)\n",
    "\n",
    "print(num1, \"is\", result1)\n",
    "print(num2, \"is\", result2)\n",
    "\n"
   ]
  },
  {
   "cell_type": "markdown",
   "id": "3ccbccd5",
   "metadata": {},
   "source": [
    "## Q-4.What are lambda functions in Python? How are they different from regular functions? Provide an example where a lambda function can be useful.\n",
    "\n",
    "#### ANS-\n",
    "\n",
    "    Lambda functions, also known as anonymous functions, are small, one-line functions in Python that can have any number of arguments but can only have one expression. They are defined using the lambda keyword and are generally used for short, simple operations where a full function definition is not required.\n",
    "    \n",
    "    Lambda functions are anonymous, meaning they do not have a name. They are usually used in situations where a small function is required for a short period of time.\n",
    "    Lambda functions are defined in a single line and are concise compared to regular functions, which are defined using the def keyword and can span multiple lines.\n",
    "    Lambda functions can only contain a single expression, whereas regular functions can have multiple statements and a more complex structure."
   ]
  },
  {
   "cell_type": "code",
   "execution_count": 20,
   "id": "9d621a54",
   "metadata": {},
   "outputs": [
    {
     "name": "stdout",
     "output_type": "stream",
     "text": [
      "8\n"
     ]
    }
   ],
   "source": [
    "addition = lambda x, y: x + y\n",
    "result = addition(3, 5)\n",
    "print(result)  \n"
   ]
  },
  {
   "cell_type": "markdown",
   "id": "5ab68dfe",
   "metadata": {},
   "source": [
    "## Q-5. How does the concept of \"scope\" apply to functions in Python? Explain the difference between local scope and global scope.\n",
    "\n",
    "#### ANS-5.\n",
    "\n",
    "    In Python, the concept of \"scope\" refers to the visibility and accessibility of variables within a program.It determines where and how variables can be accessed, and it helps prevent naming conflicts and maintain code organization.\n",
    "    \n",
    "    Local Scope:\n",
    "    Local scope refers to the scope of variables defined within a function. Variables defined within a function are only accessible within that function.Local variables are created when the function is called and are destroyed when the function completes execution.Local variables cannot be accessed from outside the function.\n",
    "    \n",
    "    Like,"
   ]
  },
  {
   "cell_type": "code",
   "execution_count": 21,
   "id": "23653ec2",
   "metadata": {},
   "outputs": [
    {
     "name": "stdout",
     "output_type": "stream",
     "text": [
      "10\n"
     ]
    },
    {
     "ename": "NameError",
     "evalue": "name 'x' is not defined",
     "output_type": "error",
     "traceback": [
      "\u001b[1;31m---------------------------------------------------------------------------\u001b[0m",
      "\u001b[1;31mNameError\u001b[0m                                 Traceback (most recent call last)",
      "Input \u001b[1;32mIn [21]\u001b[0m, in \u001b[0;36m<cell line: 6>\u001b[1;34m()\u001b[0m\n\u001b[0;32m      3\u001b[0m     \u001b[38;5;28mprint\u001b[39m(x)\n\u001b[0;32m      5\u001b[0m my_function() \n\u001b[1;32m----> 6\u001b[0m \u001b[38;5;28mprint\u001b[39m(\u001b[43mx\u001b[49m)\n",
      "\u001b[1;31mNameError\u001b[0m: name 'x' is not defined"
     ]
    }
   ],
   "source": [
    "def my_function():\n",
    "    x = 10  #x ,a local variable\n",
    "    print(x)\n",
    "\n",
    "my_function() \n",
    "print(x)  #local variable x can not be accessed otside from function\n"
   ]
  },
  {
   "cell_type": "markdown",
   "id": "6768f5b1",
   "metadata": {},
   "source": [
    "    Global Scope:\n",
    "    Global scope refers to the scope of variables defined outside of any function or at the top level of a module.Global variables can be accessed from any part of the program.\n"
   ]
  },
  {
   "cell_type": "code",
   "execution_count": 23,
   "id": "851ca425",
   "metadata": {},
   "outputs": [
    {
     "name": "stdout",
     "output_type": "stream",
     "text": [
      "10\n",
      "10\n"
     ]
    }
   ],
   "source": [
    "x = 10  # Global variable\n",
    "\n",
    "def my_function():\n",
    "    print(x)\n",
    "\n",
    "my_function()  \n",
    "print(x)  \n"
   ]
  },
  {
   "cell_type": "markdown",
   "id": "b0477499",
   "metadata": {},
   "source": [
    "## Q-6. How can you use the \"return\" statement in a Python function to return multiple values?\n",
    "\n",
    "#### ANS-6\n",
    "\n",
    "    In Python, the \"return\" statement can be used in a function to return multiple values by returning them as a tuple,     list, or any other iterable object. Here's an example:"
   ]
  },
  {
   "cell_type": "code",
   "execution_count": 25,
   "id": "9f5f5b02",
   "metadata": {},
   "outputs": [
    {
     "name": "stdout",
     "output_type": "stream",
     "text": [
      "(10, 20, 30)\n"
     ]
    }
   ],
   "source": [
    "def get_values():\n",
    "    value1 = 10\n",
    "    value2 = 20\n",
    "    value3 = 30\n",
    "    return value1, value2, value3\n",
    "\n",
    "result = get_values()\n",
    "print(result)  \n",
    "\n"
   ]
  },
  {
   "cell_type": "markdown",
   "id": "0031b984",
   "metadata": {},
   "source": [
    "## Q-7. What is the difference between the \"pass by value\" and \"pass by reference\" concepts when it comes to function arguments in Python?\n",
    "\n",
    "#### ANS-7\n",
    "\n",
    "    `In Python, when we pass arguments to a function, whether it behaves like \"pass by value\" or \"pass by reference\" depends on the type of the object being passed.\n",
    "\n",
    "    Pass by Value:-\n",
    "    For immutable objects like numbers, strings, and tuples, Python behaves as \"pass by value\". It means that when we pass an immutable object to a function and modify it inside the function, the changes are local to the function and do not affect the original object."
   ]
  },
  {
   "cell_type": "code",
   "execution_count": 26,
   "id": "0c3b6217",
   "metadata": {},
   "outputs": [
    {
     "name": "stdout",
     "output_type": "stream",
     "text": [
      "Inside: 15\n",
      "Outside: 5\n"
     ]
    }
   ],
   "source": [
    "def modify_number(num):\n",
    "    num += 10\n",
    "    print(\"Inside:\", num)\n",
    "\n",
    "x = 5\n",
    "modify_number(x)\n",
    "print(\"Outside:\", x)\n"
   ]
  },
  {
   "cell_type": "markdown",
   "id": "15601a7c",
   "metadata": {},
   "source": [
    "    Pass by Reference:\n",
    "    For mutable objects like lists and dictionaries, Python behaves as \"pass by reference\". It means that when we pass a mutable object to a function and modify it inside the function, the changes are reflected in the original object."
   ]
  },
  {
   "cell_type": "code",
   "execution_count": 27,
   "id": "a1010f0f",
   "metadata": {},
   "outputs": [
    {
     "name": "stdout",
     "output_type": "stream",
     "text": [
      "Inside function: ['apple', 'orange', 4]\n",
      "Outside function: ['apple', 'orange', 4]\n"
     ]
    }
   ],
   "source": [
    "def modify_list(lst):\n",
    "    lst.append(4)\n",
    "    lst[0] = \"apple\"\n",
    "    print(\"Inside function:\", lst)\n",
    "\n",
    "fruits = [\"banana\", \"orange\"]\n",
    "modify_list(fruits)\n",
    "print(\"Outside function:\", fruits)\n"
   ]
  },
  {
   "cell_type": "markdown",
   "id": "ca7adc30",
   "metadata": {},
   "source": [
    "## Q-8. Create a function that can intake integer or decimal value and do following operations:\n",
    "\n",
    "a. Logarithmic function (log x)\n",
    "\n",
    "b. Exponential function (exp(x))\n",
    "\n",
    "c. Power function with base 2 (2<sup>x</sup>)\n",
    "\n",
    "d. Square root\n",
    "\n",
    "#### ANS-8"
   ]
  },
  {
   "cell_type": "code",
   "execution_count": 28,
   "id": "8760a8a1",
   "metadata": {},
   "outputs": [
    {
     "name": "stdout",
     "output_type": "stream",
     "text": [
      "Logarithm: 1.6094379124341003\n",
      "Exponential: 148.4131591025766\n",
      "Power of 2: 32\n",
      "Square Root: 2.23606797749979\n"
     ]
    }
   ],
   "source": [
    "import math\n",
    "\n",
    "def math_operations(x):\n",
    "    logarithm = math.log(x)\n",
    "    exponential = math.exp(x)\n",
    "    power_of_two = 2 ** x\n",
    "    square_root = math.sqrt(x)\n",
    "    return logarithm, exponential, power_of_two, square_root\n",
    "\n",
    "# Example usage\n",
    "value = 5\n",
    "log, exp, power, sqrt = math_operations(value)\n",
    "print(\"Logarithm:\", log)\n",
    "print(\"Exponential:\", exp)\n",
    "print(\"Power of 2:\", power)\n",
    "print(\"Square Root:\", sqrt)\n"
   ]
  },
  {
   "cell_type": "markdown",
   "id": "49562ab9",
   "metadata": {},
   "source": [
    "## Q-9. Create a function that takes a full name as an argument and returns first name and last name.\n",
    "\n",
    "#### ANS-9\n",
    "\n",
    "    "
   ]
  },
  {
   "cell_type": "code",
   "execution_count": 31,
   "id": "765240d7",
   "metadata": {},
   "outputs": [
    {
     "name": "stdout",
     "output_type": "stream",
     "text": [
      "First name: Abhishek\n",
      "Last name: Anand\n"
     ]
    }
   ],
   "source": [
    "def split_name(full_name):\n",
    "    first_name, last_name = full_name.split()\n",
    "    return first_name, last_name\n",
    "\n",
    "\n",
    "name = \"Abhishek Anand\"\n",
    "first, last = split_name(name)\n",
    "print(\"First name:\", first)\n",
    "print(\"Last name:\", last)\n"
   ]
  },
  {
   "cell_type": "markdown",
   "id": "844a034a",
   "metadata": {},
   "source": [
    "# THANK YOU!"
   ]
  },
  {
   "cell_type": "code",
   "execution_count": null,
   "id": "1aece31e",
   "metadata": {},
   "outputs": [],
   "source": []
  }
 ],
 "metadata": {
  "kernelspec": {
   "display_name": "Python 3 (ipykernel)",
   "language": "python",
   "name": "python3"
  },
  "language_info": {
   "codemirror_mode": {
    "name": "ipython",
    "version": 3
   },
   "file_extension": ".py",
   "mimetype": "text/x-python",
   "name": "python",
   "nbconvert_exporter": "python",
   "pygments_lexer": "ipython3",
   "version": "3.9.12"
  }
 },
 "nbformat": 4,
 "nbformat_minor": 5
}
