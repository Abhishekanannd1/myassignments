{
 "cells": [
  {
   "cell_type": "markdown",
   "id": "87e07856",
   "metadata": {},
   "source": [
    "## Q-1. What is a lambda function in Python, and how does it differ from a regular function?\n",
    "\n",
    "#### ANS-1\n",
    "\n",
    "    Lambda functions, also known as anonymous functions, are small, one-line functions in Python that can have any number of arguments but can only have one expression. They are defined using the lambda keyword and are generally used for short, simple operations where a full function definition is not required.\n",
    "\n",
    "    Lambda functions are anonymous, meaning they do not have a name. They are usually used in situations where a small function is required for a short period of time.\n",
    "    Lambda functions are defined in a single line and are concise compared to regular functions, which are defined using the def keyword and can span multiple lines.\n",
    "    Lambda functions can only contain a single expression, whereas regular functions can have multiple statements and a more complex structure."
   ]
  },
  {
   "cell_type": "code",
   "execution_count": 1,
   "id": "761efa42",
   "metadata": {},
   "outputs": [
    {
     "name": "stdout",
     "output_type": "stream",
     "text": [
      "8\n"
     ]
    }
   ],
   "source": [
    "addition = lambda x, y: x + y\n",
    "result = addition(3, 5)\n",
    "print(result)  \n"
   ]
  },
  {
   "cell_type": "markdown",
   "id": "6e4dddfc",
   "metadata": {},
   "source": [
    "## Q-2. Can a lambda function in Python have multiple arguments? If yes, how can you define and use them?.\n",
    "\n",
    "#### ANS-2\n",
    "\n",
    "    Yes, a lambda function in Python can have multiple arguments. You can define and use multiple arguments in a lambda function by separating them with commas, similar to a regular function.\n",
    "    \n",
    "    Like,"
   ]
  },
  {
   "cell_type": "code",
   "execution_count": 2,
   "id": "a9e5b5a8",
   "metadata": {},
   "outputs": [
    {
     "name": "stdout",
     "output_type": "stream",
     "text": [
      "12\n"
     ]
    }
   ],
   "source": [
    "multiply = lambda x, y: x * y\n",
    "\n",
    "\n",
    "result = multiply(3, 4)\n",
    "print(result)  # Output: 12\n"
   ]
  },
  {
   "cell_type": "markdown",
   "id": "22ca947a",
   "metadata": {},
   "source": [
    "## Q-3. How are lambda functions typically used in Python? Provide an example use case.\n",
    "\n",
    "#### ANS-3\n",
    "\n",
    "    Lambda functions are typically used in Python for situations where you need a small, anonymous function without the need for defining a separate function using the def keyword. They are often used as arguments to higher-order functions, such as map(), filter(), and reduce(), or in scenarios where a function is required as a one-time or short-lived operation.\n",
    "    \n",
    "    like,"
   ]
  },
  {
   "cell_type": "code",
   "execution_count": 8,
   "id": "7bdf5921",
   "metadata": {},
   "outputs": [
    {
     "name": "stdout",
     "output_type": "stream",
     "text": [
      "{'name': 'Rekha', 'age': 19, 'grade': 'B'}\n",
      "{'name': 'Ashish', 'age': 20, 'grade': 'A'}\n",
      "{'name': 'Shweta', 'age': 21, 'grade': 'A'}\n"
     ]
    }
   ],
   "source": [
    "students = [\n",
    "    {'name': 'Ashish', 'age': 20, 'grade': 'A'},\n",
    "    {'name': 'Rekha', 'age': 19, 'grade': 'B'},\n",
    "    {'name': 'Shweta', 'age': 21, 'grade': 'A'},\n",
    "]\n",
    "\n",
    "# Sort the list of students based on their age\n",
    "students.sort(key=lambda student: student['age'])\n",
    "\n",
    "# Print the sorted list\n",
    "for student in students:\n",
    "    print(student)\n"
   ]
  },
  {
   "cell_type": "markdown",
   "id": "c0651701",
   "metadata": {},
   "source": [
    "## Q-4. What are the advantages and limitations of lambda functions compared to regular functions in Python?\n",
    "\n",
    "#### ANS-4\n",
    "\n",
    "    Lambda functions offer several advantages compared to regular functions as well as disadvantages.\n",
    "\n",
    "    Advantages of lambda functions:\n",
    "\n",
    "    a. Concise syntax, allowing for one-line definitions.\n",
    "    b. Anonymous functions for inline usage.\n",
    "    c. Function expressions for flexibility in higher-order functions.\n",
    "\n",
    "    Limitations of lambda functions:\n",
    "\n",
    "    a. Limited to a single expression, no multiple statements.\n",
    "    b. Not suitable for complex computations or multi-line code.\n",
    "    c.Lack of named functions and documentation."
   ]
  },
  {
   "cell_type": "markdown",
   "id": "4803f989",
   "metadata": {},
   "source": [
    "## Q-5. Are lambda functions in Python able to access variables defined outside of their own scope? Explain with an example.\n",
    "\n",
    "#### ANS-5\n",
    "\n",
    "    Yes, lambda functions in Python can access variables defined outside of their own scope.This is possible through lexical scoping, where the lambda function retains access to variables from the enclosing scope.\n",
    "    \n",
    "    For example,"
   ]
  },
  {
   "cell_type": "code",
   "execution_count": 9,
   "id": "6bf97317",
   "metadata": {},
   "outputs": [
    {
     "name": "stdout",
     "output_type": "stream",
     "text": [
      "10\n",
      "15\n"
     ]
    }
   ],
   "source": [
    "def multiplier(n):\n",
    "    return lambda x: x * n\n",
    "\n",
    "multiply_by_2 = multiplier(2)\n",
    "multiply_by_3 = multiplier(3)\n",
    "\n",
    "print(multiply_by_2(5))  \n",
    "print(multiply_by_3(5))  \n"
   ]
  },
  {
   "cell_type": "markdown",
   "id": "0a8ca239",
   "metadata": {},
   "source": [
    "## Q-6. Write a lambda function to calculate the square of a given number.\n",
    "\n",
    "#### ANS-6"
   ]
  },
  {
   "cell_type": "code",
   "execution_count": 10,
   "id": "cdf1da6d",
   "metadata": {},
   "outputs": [
    {
     "name": "stdout",
     "output_type": "stream",
     "text": [
      "25\n"
     ]
    }
   ],
   "source": [
    "square=lambda x:x**2\n",
    "print(square(5))"
   ]
  },
  {
   "cell_type": "markdown",
   "id": "42029be4",
   "metadata": {},
   "source": [
    "## Q-7. Create a lambda function to find the maximum value in a list of integers.\n",
    "\n",
    "#### ANS-7\n",
    "\n",
    "    "
   ]
  },
  {
   "cell_type": "code",
   "execution_count": 13,
   "id": "10e89054",
   "metadata": {},
   "outputs": [
    {
     "name": "stdout",
     "output_type": "stream",
     "text": [
      "10\n"
     ]
    }
   ],
   "source": [
    "find_max = lambda a_list: max(a_list)\n",
    "\n",
    "\n",
    "numbers = [5, 2, 8, 3, 10]\n",
    "\n",
    "print(find_max (numbers))"
   ]
  },
  {
   "cell_type": "markdown",
   "id": "9fa0db19",
   "metadata": {},
   "source": [
    "## Q-8. Implement a lambda function to filter out all the even numbers from a list of integers.\n",
    "\n",
    "#### ANS-8"
   ]
  },
  {
   "cell_type": "code",
   "execution_count": 14,
   "id": "50b8154a",
   "metadata": {},
   "outputs": [
    {
     "name": "stdout",
     "output_type": "stream",
     "text": [
      "[2, 4, 6, 8, 10]\n"
     ]
    }
   ],
   "source": [
    "filter_even = lambda lst: [x for x in lst if x % 2 == 0]\n",
    "\n",
    "numbers = [1, 2, 3, 4, 5, 6, 7, 8, 9, 10]\n",
    "filtered_numbers = filter_even(numbers)\n",
    "print(filtered_numbers)  \n"
   ]
  },
  {
   "cell_type": "markdown",
   "id": "01e36156",
   "metadata": {},
   "source": [
    "## Q-9. Write a lambda function to sort a list of strings in ascending order based on the length of each string.\n",
    "\n",
    "#### ANS-9"
   ]
  },
  {
   "cell_type": "code",
   "execution_count": 17,
   "id": "fe6dd17b",
   "metadata": {},
   "outputs": [
    {
     "name": "stdout",
     "output_type": "stream",
     "text": [
      "['date', 'apple', 'banana', 'cherry', 'elderberry']\n"
     ]
    }
   ],
   "source": [
    "strings = ['apple', 'banana', 'cherry', 'date', 'elderberry']\n",
    "\n",
    "strings.sort(key=lambda x: len(x))\n",
    "\n",
    "print(strings)\n"
   ]
  },
  {
   "cell_type": "markdown",
   "id": "5ffda7a4",
   "metadata": {},
   "source": [
    "## Q-10. Create a lambda function that takes two lists as input and returns a new list containing the common elements between the two lists.\n",
    "\n",
    "#### ANS-10"
   ]
  },
  {
   "cell_type": "code",
   "execution_count": 19,
   "id": "dfddbe09",
   "metadata": {},
   "outputs": [
    {
     "name": "stdout",
     "output_type": "stream",
     "text": [
      "[4, 5]\n"
     ]
    }
   ],
   "source": [
    "list1 = [1, 2, 3, 4, 5]\n",
    "list2 = [4, 5, 6, 7, 8]\n",
    "\n",
    "common_elements = lambda lst1, lst2: [x for x in lst1 if x in lst2]\n",
    "\n",
    "result = common_elements(list1, list2)\n",
    "print(result)\n"
   ]
  },
  {
   "cell_type": "markdown",
   "id": "3d994b89",
   "metadata": {},
   "source": [
    "## Q-11. Write a recursive function to calculate the factorial of a given positive integer.\n",
    "\n",
    "#### ANS-11\n"
   ]
  },
  {
   "cell_type": "code",
   "execution_count": 27,
   "id": "6d14c063",
   "metadata": {},
   "outputs": [
    {
     "name": "stdout",
     "output_type": "stream",
     "text": [
      "24\n"
     ]
    }
   ],
   "source": [
    "def factorial(n):\n",
    "    if n == 0 or n == 1:\n",
    "        return 1\n",
    "    else:\n",
    "        return n * factorial(n - 1)\n",
    "\n",
    "result = factorial(4)\n",
    "print(result)  \n",
    "\n"
   ]
  },
  {
   "cell_type": "markdown",
   "id": "3b3a9f62",
   "metadata": {},
   "source": [
    "## Q-12. Implement a recursive function to compute the nth Fibonacci number.\n",
    "#### ANS-12"
   ]
  },
  {
   "cell_type": "code",
   "execution_count": 30,
   "id": "f7ffe015",
   "metadata": {},
   "outputs": [
    {
     "name": "stdout",
     "output_type": "stream",
     "text": [
      "21\n"
     ]
    }
   ],
   "source": [
    "def fibonacci(n):\n",
    "    if n <= 0:\n",
    "        return None  \n",
    "    elif n == 1 or n == 2:\n",
    "        return 1  \n",
    "    else:\n",
    "        return fibonacci(n - 1) + fibonacci(n - 2) \n",
    "result = fibonacci(8)\n",
    "print(result)  \n"
   ]
  },
  {
   "cell_type": "markdown",
   "id": "68e9214f",
   "metadata": {},
   "source": [
    "## Q-13. Create a recursive function to find the sum of all the elements in a given list.\n",
    "\n",
    "#### ANS-13"
   ]
  },
  {
   "cell_type": "code",
   "execution_count": 44,
   "id": "9fb19126",
   "metadata": {},
   "outputs": [
    {
     "name": "stdout",
     "output_type": "stream",
     "text": [
      "45\n"
     ]
    }
   ],
   "source": [
    "def recursive_sum(lst):\n",
    "    if len(lst) == 0:\n",
    "       return 0  \n",
    "    else:\n",
    "        return lst[0] + recursive_sum(lst[1:])  \n",
    "numbers = [1, 2, 3, 4, 5,6,7,8,9,]\n",
    "result = recursive_sum(numbers)\n",
    "print(result)  \n"
   ]
  },
  {
   "cell_type": "markdown",
   "id": "231a0147",
   "metadata": {},
   "source": [
    "## Q-14. Write a recursive function to determine whether a given string is a palindrome.\n",
    "\n",
    "#### ANS-14"
   ]
  },
  {
   "cell_type": "code",
   "execution_count": 48,
   "id": "c2dddc06",
   "metadata": {},
   "outputs": [
    {
     "name": "stdout",
     "output_type": "stream",
     "text": [
      "True\n",
      "False\n"
     ]
    }
   ],
   "source": [
    "def is_palindrome(string):\n",
    "    if len(string) <= 1:  \n",
    "        return True\n",
    "    elif string[0] != string[-1]: \n",
    "        return False\n",
    "    else:\n",
    "       \n",
    "        return is_palindrome(string[1:-1])\n",
    "\n",
    "string1 = \"racecar\"\n",
    "print(is_palindrome(string1))  \n",
    "\n",
    "string2 = \"hello\"\n",
    "print(is_palindrome(string2))  \n"
   ]
  },
  {
   "cell_type": "markdown",
   "id": "5dd50353",
   "metadata": {},
   "source": [
    "## 15. Implement a recursive function to find the greatest common divisor (GCD) of two positive integers.\n",
    "\n",
    "#### ANS-15"
   ]
  },
  {
   "cell_type": "code",
   "execution_count": 50,
   "id": "44ee4158",
   "metadata": {},
   "outputs": [
    {
     "name": "stdout",
     "output_type": "stream",
     "text": [
      "12\n"
     ]
    }
   ],
   "source": [
    "def gcd(a, b):\n",
    "    if b == 0:  \n",
    "        return a\n",
    "    else:\n",
    "        \n",
    "        return gcd(b, a % b)\n",
    "\n",
    "a = 48\n",
    "b = 36\n",
    "print(gcd(a, b))  \n"
   ]
  },
  {
   "cell_type": "markdown",
   "id": "c93efb8e",
   "metadata": {},
   "source": [
    "# THANK YOU!"
   ]
  }
 ],
 "metadata": {
  "kernelspec": {
   "display_name": "Python 3 (ipykernel)",
   "language": "python",
   "name": "python3"
  },
  "language_info": {
   "codemirror_mode": {
    "name": "ipython",
    "version": 3
   },
   "file_extension": ".py",
   "mimetype": "text/x-python",
   "name": "python",
   "nbconvert_exporter": "python",
   "pygments_lexer": "ipython3",
   "version": "3.9.12"
  }
 },
 "nbformat": 4,
 "nbformat_minor": 5
}
