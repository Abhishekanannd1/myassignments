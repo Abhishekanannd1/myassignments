{
 "cells": [
  {
   "cell_type": "markdown",
   "id": "0240b901",
   "metadata": {},
   "source": [
    "## ASSIGNMENT -1 "
   ]
  },
  {
   "cell_type": "markdown",
   "id": "9b98e99f",
   "metadata": {},
   "source": [
    "## Q-1. In the below elements which of them are values or an expression? eg:- values can be integer or string and expressions will be mathematical operators.\n",
    "* \n",
    "'hello'\n",
    "-87.8\n",
    "- \n",
    "/ \n",
    "+\t\n",
    "6 \n",
    "\n",
    "ANS-1  \n",
    "Values: ‘hello’ , -87.8, 6 \n",
    "\n",
    "Expression: * , - , / ,+ \n",
    "\n",
    "\n",
    "## Q-2. What is the difference between string and variable?\n",
    "\n",
    "Ans:-2 \n",
    "Strings:- strings are sequence of characters ,it is created by enclosing quotes, single quotation or double quotation can be used. Strings can be sliced ,modified and formatted. \n",
    "\n",
    "Variables:-Variables are named location that register some space in memory to store data that is assigned to it. variables are declared using “=” ,name of the variable is in left side and its value in the right side of “equal to” sign. \n",
    "\n",
    "Eg., platform=”ineuron”, \n",
    "Here, platform is a variable and ineuron is a sring attached to it\n",
    "\n",
    "\n",
    "\n",
    "## Q-3. Describe three different data types.\n",
    "\n",
    "Ans-3 \n",
    "\n",
    "Since python is a dynamically typed language it is not necessary to declare the type of data each time, python detects types of variable by examining their value. Three different data types can be:- \n",
    "\n",
    "a)\tIntegers: These are whole numbers without any fractional part, declared as “int”. \n",
    " \n",
    "Eg.-x=3,y=-45\n",
    "\n",
    "b)\tFloats:-It represents real numbers, all positive and negative numbers with a decimal point can be referred as float data types. \n",
    "\n",
    "Eg.-x=4.33,y=-3.20 \n",
    " \n",
    "c)\tStrings:- Strings are sequence of characters created by enclosing quotes. Eg.- ame=”Abhishek Anand”, age=”23” \n",
    "\n",
    "\n",
    "## Q-4. What is an expression made up of? What do all expressions do? \n",
    "\n",
    "Ans-4 \n",
    "\n",
    "Expression is made up of values, variables and operators that evaluates a desired result, An expression is made up of values (numbers, strings, Booleans, or None) variables, and operators. \n",
    "\n",
    "Expressions are a fundamental part of python programming, they allow us to perform calculations, make decisions, and control loops. Expressions can be used in a variety of ways in python. They can be used to assign values to variables, to pass arguments to functions, and to make decisions in conditional statements. \n",
    "\n",
    "Examples of expression \n",
    "\n",
    "Arithmetic expressions: Used to perform mathematical operations, Eg.: X=4+8, \n",
    "\n",
    "Comparison expressions: Used to compare Boolean values, result as True or false.Eg.:(3==4)\n",
    "\n",
    "Logical expressions: combination of Boolean values and operators, and, or not \n",
    " \n",
    "\n",
    "\n",
    "## Q-5.\tThis assignment statements, like spam = 10. What is the difference between an expression and a statement? \n",
    "\n",
    "Ans-5 \n",
    "\n",
    "spam=10, This is a statement which assigns the value 10 in the variable spam. A statement tells the interpreter to do something but an expression evaluates to a single value. \n",
    "\n",
    "The difference between an expression and a statement is that an expression evaluates to a value, while a statement does not necessarily evaluate to a value, For example , \n",
    "\n",
    "The expression 4+2 valuates to a value 6, while the statement print(“India is our country”) does not evaluate to a single value. Expression are used to perform calculation while statement used to control  the flow of execution. \n"
   ]
  },
  {
   "cell_type": "markdown",
   "id": "d81f37f4",
   "metadata": {},
   "source": [
    "## Q-6.\tAfter running the following code, what does the variable bacon contain? \n",
    "bacon = 22 \n",
    "\n",
    "bacon + 1 \n",
    "\n",
    "Ans-6\n",
    "\n",
    "The variable bacon contains 22. The code in second line adds up to 23 but it does not get stored in the variable bacon so bacon contain the value 22 as assigned earlier.  \n"
   ]
  },
  {
   "cell_type": "code",
   "execution_count": 2,
   "id": "ee383644",
   "metadata": {},
   "outputs": [
    {
     "name": "stdout",
     "output_type": "stream",
     "text": [
      "22\n"
     ]
    }
   ],
   "source": [
    "bacon=22\n",
    "bacon+1\n",
    "print(bacon)"
   ]
  },
  {
   "cell_type": "markdown",
   "id": "8e0b9320",
   "metadata": {},
   "source": [
    "## Q-7. What should the values of the following two terms be? \n",
    "\n",
    "'spam' + 'spamspam' \n",
    "\n",
    "'spam' * 3 \n",
    "\n",
    "Ans-7 \n",
    "\n",
    "In the first line the string ,“spam” is added to another string “spamspam” and gives the value as “spamspamspam”. The value in the second line is also same  “spamspamspam” because the string “spam ” is multiplied 3 times to give the same value. \n"
   ]
  },
  {
   "cell_type": "code",
   "execution_count": 3,
   "id": "d6dafdce",
   "metadata": {},
   "outputs": [
    {
     "data": {
      "text/plain": [
       "'spamspamspam'"
      ]
     },
     "execution_count": 3,
     "metadata": {},
     "output_type": "execute_result"
    }
   ],
   "source": [
    "'spam' + 'spamspam'"
   ]
  },
  {
   "cell_type": "code",
   "execution_count": 4,
   "id": "5d87a978",
   "metadata": {},
   "outputs": [
    {
     "data": {
      "text/plain": [
       "'spamspamspam'"
      ]
     },
     "execution_count": 4,
     "metadata": {},
     "output_type": "execute_result"
    }
   ],
   "source": [
    "'spam' * 3"
   ]
  },
  {
   "cell_type": "markdown",
   "id": "d4ea6be8",
   "metadata": {},
   "source": [
    "## Q-8. Why is eggs a valid variable name while 100 is invalid? \n",
    "\n",
    "Ans-8\n",
    "\n",
    "A valid variable name must start with a  letter or a underscore ,egg is a valid variable but 100 is not because a variable name can never star with a digit.  \n"
   ]
  },
  {
   "cell_type": "markdown",
   "id": "4b9adea3",
   "metadata": {},
   "source": [
    "### Q-9. What three functions can be used to get the integer, floating-point number, or string version of a value? \n",
    "\n",
    "Ans-9 \n",
    "\n",
    "The function used to get integer is: int() \n",
    "\n",
    "The function used to get float is: float()\n",
    "\n",
    "The function used to get stringis: str() \n"
   ]
  },
  {
   "cell_type": "markdown",
   "id": "c8b35857",
   "metadata": {},
   "source": [
    "## Q-10. Why does this expression cause an error? How can you fix it? \n",
    "\n",
    "'I have eaten ' + 99 + ' burritos.' \n",
    "\n",
    "Ans-10 \n",
    "\n",
    "This expression cause an error because 99 is not a string ,it is an integer. Only strings can be added with other strings to give a concatenated string. \n",
    "\n",
    "This error can be fixed by using str(),to convert 99 from integer  to a string we use 99 as the argument of str() , now the fixed expression looks like  \n",
    "\n",
    "'I have eaten ' + str(99) + ' burritos.' \n"
   ]
  },
  {
   "cell_type": "code",
   "execution_count": 5,
   "id": "e779c5dc",
   "metadata": {},
   "outputs": [
    {
     "ename": "TypeError",
     "evalue": "can only concatenate str (not \"int\") to str",
     "output_type": "error",
     "traceback": [
      "\u001b[1;31m---------------------------------------------------------------------------\u001b[0m",
      "\u001b[1;31mTypeError\u001b[0m                                 Traceback (most recent call last)",
      "Input \u001b[1;32mIn [5]\u001b[0m, in \u001b[0;36m<cell line: 1>\u001b[1;34m()\u001b[0m\n\u001b[1;32m----> 1\u001b[0m \u001b[38;5;124;43m'\u001b[39;49m\u001b[38;5;124;43mI have eaten \u001b[39;49m\u001b[38;5;124;43m'\u001b[39;49m\u001b[43m \u001b[49m\u001b[38;5;241;43m+\u001b[39;49m\u001b[43m \u001b[49m\u001b[38;5;241;43m99\u001b[39;49m \u001b[38;5;241m+\u001b[39m \u001b[38;5;124m'\u001b[39m\u001b[38;5;124m burritos.\u001b[39m\u001b[38;5;124m'\u001b[39m\n",
      "\u001b[1;31mTypeError\u001b[0m: can only concatenate str (not \"int\") to str"
     ]
    }
   ],
   "source": [
    "'I have eaten ' + 99 + ' burritos.'"
   ]
  },
  {
   "cell_type": "code",
   "execution_count": 6,
   "id": "73937548",
   "metadata": {},
   "outputs": [
    {
     "data": {
      "text/plain": [
       "'I have eaten 99 burritos.'"
      ]
     },
     "execution_count": 6,
     "metadata": {},
     "output_type": "execute_result"
    }
   ],
   "source": [
    "'I have eaten ' + str(99) + ' burritos.'"
   ]
  },
  {
   "cell_type": "markdown",
   "id": "12468527",
   "metadata": {},
   "source": [
    "# THANKYOU"
   ]
  }
 ],
 "metadata": {
  "kernelspec": {
   "display_name": "Python 3 (ipykernel)",
   "language": "python",
   "name": "python3"
  },
  "language_info": {
   "codemirror_mode": {
    "name": "ipython",
    "version": 3
   },
   "file_extension": ".py",
   "mimetype": "text/x-python",
   "name": "python",
   "nbconvert_exporter": "python",
   "pygments_lexer": "ipython3",
   "version": "3.9.12"
  }
 },
 "nbformat": 4,
 "nbformat_minor": 5
}
