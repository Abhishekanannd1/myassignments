{
 "cells": [
  {
   "cell_type": "markdown",
   "id": "2d198a99",
   "metadata": {},
   "source": [
    "# ASSIGNMENT-7\n",
    "\n",
    "## Q-1. Create two int type variables, apply addition, subtraction, division and multiplications and store the results in variables. Then print the data in the following format by calling the variables:\n",
    "\n",
    "    First variable is __ & second variable is __.\n",
    "    Addition: __ + __ = __\n",
    "    Subtraction: __ - __ = __\n",
    "    Multiplication: __ * __ = __\n",
    "    Division: __ / __ = __\n",
    "\n",
    "\n",
    "#### ANS-1"
   ]
  },
  {
   "cell_type": "code",
   "execution_count": 7,
   "id": "8878a790",
   "metadata": {},
   "outputs": [
    {
     "name": "stdout",
     "output_type": "stream",
     "text": [
      "First variable is 20 & second variable is 10.\n",
      "Addition: 20 + 10 = 30\n",
      "Subtraction: 20 - 10 = 10\n",
      "Multiplication: 20 * 10 = 200\n",
      "Division: 20 / 10 = 2.0\n"
     ]
    }
   ],
   "source": [
    "a = 20\n",
    "b = 10\n",
    "\n",
    "addition = a + b\n",
    "subtraction = a - b\n",
    "division = a / b\n",
    "multiplication = a * b\n",
    "\n",
    "print(f\"First variable is {a} & second variable is {b}.\")\n",
    "print(f\"Addition: {a} + {b} = {addition}\")\n",
    "print(f\"Subtraction: {a} - {b} = {subtraction}\")\n",
    "print(f\"Multiplication: {a} * {b} = {multiplication}\")\n",
    "print(f\"Division: {a} / {b} = {division}\")\n"
   ]
  },
  {
   "cell_type": "markdown",
   "id": "9e28459a",
   "metadata": {},
   "source": [
    "## Q-2.What is the difference between the following operators:\n",
    "(i) ‘/’ & ‘//’\n",
    "\n",
    "(ii) ‘**’ & ‘^’"
   ]
  },
  {
   "cell_type": "markdown",
   "id": "746b2c36",
   "metadata": {},
   "source": [
    "#### ANS-2\n",
    "\n",
    "    (i) ‘/’ & ‘//’ :\n",
    "    \n",
    "        '/' performs floating-point division but '//' performs floor division (integer division)."
   ]
  },
  {
   "cell_type": "code",
   "execution_count": 8,
   "id": "b6d422e6",
   "metadata": {},
   "outputs": [
    {
     "data": {
      "text/plain": [
       "1.5"
      ]
     },
     "execution_count": 8,
     "metadata": {},
     "output_type": "execute_result"
    }
   ],
   "source": [
    "a=3\n",
    "b=2\n",
    "\n",
    "a/b      #floating point devision"
   ]
  },
  {
   "cell_type": "code",
   "execution_count": 9,
   "id": "1a04631c",
   "metadata": {},
   "outputs": [
    {
     "data": {
      "text/plain": [
       "1"
      ]
     },
     "execution_count": 9,
     "metadata": {},
     "output_type": "execute_result"
    }
   ],
   "source": [
    "a//b     #floor division"
   ]
  },
  {
   "cell_type": "markdown",
   "id": "d5ea81f4",
   "metadata": {},
   "source": [
    "    (ii) ‘**’ & ‘^’ :\n",
    "    \n",
    "    '**' performs exponentiation but '^' performs bitwise XOR operation, not exponentiation."
   ]
  },
  {
   "cell_type": "code",
   "execution_count": 10,
   "id": "667dd32c",
   "metadata": {},
   "outputs": [
    {
     "data": {
      "text/plain": [
       "9"
      ]
     },
     "execution_count": 10,
     "metadata": {},
     "output_type": "execute_result"
    }
   ],
   "source": [
    "a=3\n",
    "b=2\n",
    "\n",
    "a**b        # this performs exponention a to the power b"
   ]
  },
  {
   "cell_type": "code",
   "execution_count": 11,
   "id": "a4818684",
   "metadata": {},
   "outputs": [
    {
     "data": {
      "text/plain": [
       "1"
      ]
     },
     "execution_count": 11,
     "metadata": {},
     "output_type": "execute_result"
    }
   ],
   "source": [
    "a^b         #performs bitwise XOR operation"
   ]
  },
  {
   "cell_type": "markdown",
   "id": "f6b8c15d",
   "metadata": {},
   "source": [
    "## Q-3. List the logical operators.\n",
    "\n",
    "#### ANS-3\n",
    "\n",
    "    The logical operators are:\n",
    "\n",
    "    1. Logical AND(and): returns True if both operands are True, otherwise  False. It performs a logical AND operation.\n",
    "\n",
    "    2. Logical OR (or): The or operator returns True if at least one of the operands is True, otherwise it returns False. \n",
    "\n",
    "    3. Logical NOT(not): returns the opposite of the operand's truth value,If True then False , if False then True\n",
    "\n"
   ]
  },
  {
   "cell_type": "code",
   "execution_count": 18,
   "id": "24b11603",
   "metadata": {},
   "outputs": [
    {
     "data": {
      "text/plain": [
       "True"
      ]
     },
     "execution_count": 18,
     "metadata": {},
     "output_type": "execute_result"
    }
   ],
   "source": [
    "x=4\n",
    "y=3\n",
    "\n",
    "z=x>y and x>0   #logical AND\n",
    "z"
   ]
  },
  {
   "cell_type": "code",
   "execution_count": 22,
   "id": "b7de206c",
   "metadata": {},
   "outputs": [
    {
     "data": {
      "text/plain": [
       "False"
      ]
     },
     "execution_count": 22,
     "metadata": {},
     "output_type": "execute_result"
    }
   ],
   "source": [
    "y>x or y<0      #logical OR"
   ]
  },
  {
   "cell_type": "code",
   "execution_count": 21,
   "id": "3e069f0f",
   "metadata": {},
   "outputs": [
    {
     "data": {
      "text/plain": [
       "False"
      ]
     },
     "execution_count": 21,
     "metadata": {},
     "output_type": "execute_result"
    }
   ],
   "source": [
    "not z          #logical NOT"
   ]
  },
  {
   "cell_type": "markdown",
   "id": "15dd132e",
   "metadata": {},
   "source": [
    "## Q-4. Explain right shift operator and left shift operator with examples.\n",
    "\n",
    "#### ANS-4\n",
    "\n",
    "    Right Shift (>>):\n",
    "    The right shift operator (>>) shifts the bits of the left operand to the right by the number of positions specified by the right operand. It effectively divides the left operand by 2 raised to the power of the right operand."
   ]
  },
  {
   "cell_type": "code",
   "execution_count": 26,
   "id": "8f9fcf3c",
   "metadata": {},
   "outputs": [
    {
     "name": "stdout",
     "output_type": "stream",
     "text": [
      "5\n"
     ]
    }
   ],
   "source": [
    "x = 10  # Binary of 10 is 1010\n",
    "y = x >> 1  # Shifting 1 position to the right making binary of y 0101\n",
    "print(y)  \n"
   ]
  },
  {
   "cell_type": "markdown",
   "id": "da39457f",
   "metadata": {},
   "source": [
    "    Left Shift (<<):\n",
    "    The left shift operator (<<) shifts the bits of the left operand to the left by the number of positions specified by the right operand. It effectively multiplies the left operand by 2 raised to the power of the right operand."
   ]
  },
  {
   "cell_type": "code",
   "execution_count": 27,
   "id": "fb21aa1c",
   "metadata": {},
   "outputs": [
    {
     "name": "stdout",
     "output_type": "stream",
     "text": [
      "10\n"
     ]
    }
   ],
   "source": [
    "x = 5  # Binary of 5 is 0101\n",
    "y = x << 1  # Shifting 1 position to the left making binary of y 1010\n",
    "print(y)  \n"
   ]
  },
  {
   "cell_type": "markdown",
   "id": "8f81345c",
   "metadata": {},
   "source": [
    "## Q-5.Create a list containing int type data of length 15. Then write a code to check if 10 is present in the list or not."
   ]
  },
  {
   "cell_type": "markdown",
   "id": "ee8f9dbf",
   "metadata": {},
   "source": [
    "#### ANS-5"
   ]
  },
  {
   "cell_type": "code",
   "execution_count": 29,
   "id": "a93139a1",
   "metadata": {},
   "outputs": [
    {
     "name": "stdout",
     "output_type": "stream",
     "text": [
      "10 is present in the list\n"
     ]
    }
   ],
   "source": [
    "\n",
    "a_list = [1, 2, 3, 4, 5, 6, 7, 8, 9, 10, 11, 12, 13, 14, 15]\n",
    "\n",
    "if 10 in a_list:\n",
    "    print(\"10 is present in the list\")\n",
    "else:\n",
    "    print(\"10 is not present in the list\")\n"
   ]
  },
  {
   "cell_type": "markdown",
   "id": "d1674af0",
   "metadata": {},
   "source": [
    "# THANK YOU!"
   ]
  },
  {
   "cell_type": "code",
   "execution_count": null,
   "id": "2a044459",
   "metadata": {},
   "outputs": [],
   "source": []
  }
 ],
 "metadata": {
  "kernelspec": {
   "display_name": "Python 3 (ipykernel)",
   "language": "python",
   "name": "python3"
  },
  "language_info": {
   "codemirror_mode": {
    "name": "ipython",
    "version": 3
   },
   "file_extension": ".py",
   "mimetype": "text/x-python",
   "name": "python",
   "nbconvert_exporter": "python",
   "pygments_lexer": "ipython3",
   "version": "3.9.12"
  }
 },
 "nbformat": 4,
 "nbformat_minor": 5
}
