{
 "cells": [
  {
   "cell_type": "markdown",
   "id": "b78422c1",
   "metadata": {},
   "source": [
    "\n",
    "# ASSINMENT-3\n",
    "\n",
    "## Q-1.Why are functions advantageous to have in your programs?\n",
    "\n",
    "#### ANS-1\n",
    "\n",
    "Functions are advantageous to have in programs for following reasons:\n",
    "\n",
    "1. Code Organization: Functions allow you to break down a complex program into smaller, modular, and reusable pieces. \n",
    "\n",
    "\n",
    "2. Reusability: Functions can be reused throughout your program or even in different programs. Once you define a function, you can call it multiple times, providing different arguments as needed. This saves time .\n",
    "\n",
    "\n",
    "3. Modularity: Functions promote modularity, allowing you to divide your program's logic into logical units. Each function can be responsible for a specific task or functionality.\n",
    "\n",
    "\n",
    "4. Readability : Functions enhance code readability by allowing you to give meaningful names to different blocks of code. Well-named functions make it easier for others (and yourself) to understand the purpose and functionality of each piece of code.\n",
    "\n",
    "\n",
    "5. Testing and Debugging: Functions make it easier to write unit tests for specific blocks of code. By testing functions individually, you can ensure that each function behaves as expected, simplifying the testing and debugging process.\n",
    "\n",
    "\n",
    "## Q-2.When does the code in a function run: when it&#39;s specified or when it&#39;s called?\n",
    "\n",
    "#### ANS-2\n",
    "\n",
    "    The code in a function runs when the function is called .It does not run when it is defined or specified, a function     runs only when it is called.\n",
    "    \n",
    "## Q-3. What statement creates a function?\n",
    "\n",
    "#### ANS-3\n",
    "    The \"def\" statement is used to create a function.\n",
    "    \n",
    "    The def statement is followed by the function name, parentheses (), and a colon :.There after body of the function is written in indented block of def.\n"
   ]
  },
  {
   "cell_type": "code",
   "execution_count": 3,
   "id": "8519cc19",
   "metadata": {},
   "outputs": [
    {
     "name": "stdout",
     "output_type": "stream",
     "text": [
      "assignment completed\n"
     ]
    }
   ],
   "source": [
    "\n",
    "def assignment():\n",
    "    all_assignments=True\n",
    "    if all_assignments==True:\n",
    "        print(\"assignment completed\")\n",
    "assignment()"
   ]
  },
  {
   "cell_type": "markdown",
   "id": "c78a1940",
   "metadata": {},
   "source": [
    "## Q-4. What is the difference between a function and a function call?\n",
    "\n",
    "#### ANS-4\n",
    "    A function is the definition or implementation of a block of code ,set of instructions to perform specific task, while a function call is the act of invoking or executing that function at a particular point in the program. The function call triggers the execution of the code within the function and allows the function to perform its designated task.\n",
    "\n",
    "## Q-5. How many global scopes are there in a Python program? How many local scopes?\n",
    "\n",
    "#### ANS-5\n",
    "    There is only one global scope in a program ,it is the outer most level of a program which can be accessed anywhere within a program while the local scopes can be many, specific local scopes can be defined of pariticular functions or classes which can be accessed only within that function or class."
   ]
  },
  {
   "cell_type": "markdown",
   "id": "1f424cbe",
   "metadata": {},
   "source": [
    "## Q-6. What happens to variables in a local scope when the function call returns?\n",
    "\n",
    "#### ANS-6\n",
    "\n",
    "    Variables in a local scope get destroyed and can not be accessed further after function call returns.\n",
    "    \n",
    "    In the following function printx() ,the variable x can not accessed once the function is called"
   ]
  },
  {
   "cell_type": "code",
   "execution_count": 7,
   "id": "8316b459",
   "metadata": {},
   "outputs": [
    {
     "name": "stdout",
     "output_type": "stream",
     "text": [
      "1\n"
     ]
    },
    {
     "ename": "NameError",
     "evalue": "name 'x' is not defined",
     "output_type": "error",
     "traceback": [
      "\u001b[1;31m---------------------------------------------------------------------------\u001b[0m",
      "\u001b[1;31mNameError\u001b[0m                                 Traceback (most recent call last)",
      "Input \u001b[1;32mIn [7]\u001b[0m, in \u001b[0;36m<cell line: 5>\u001b[1;34m()\u001b[0m\n\u001b[0;32m      3\u001b[0m     \u001b[38;5;28mprint\u001b[39m(x)\n\u001b[0;32m      4\u001b[0m abc()\n\u001b[1;32m----> 5\u001b[0m \u001b[38;5;28mprint\u001b[39m(\u001b[43mx\u001b[49m)\n",
      "\u001b[1;31mNameError\u001b[0m: name 'x' is not defined"
     ]
    }
   ],
   "source": [
    "def printx():\n",
    "    x=1\n",
    "    print(x)\n",
    "abc()\n",
    "print(x)"
   ]
  },
  {
   "cell_type": "markdown",
   "id": "88b60ada",
   "metadata": {},
   "source": [
    "## Q-7.What is the concept of a return value? Is it possible to have a return value in an expression?\n",
    "\n",
    "#### ANS-7\n",
    "\n",
    "    Return value is a value that a function provide back to the caller after executing its logic. When a function reaches a return statement, it terminates the function's execution and sends the specified value (or values) back to the point where the function was called. A return value makes it easier for function to comunicate reslts with the caller.\n",
    "\n",
    "    Yes, an expression can have a return value. This is known as a function call expression. A function call expression involves calling a function and using its return value directly within an expression.\n",
    "\n",
    "## Q-8. If a function does not have a return statement, what is the return value of a call to that function?\n",
    "\n",
    "#### ANS-8\n",
    "    \n",
    "    If a function does not have a return statement, the return value of a call to that function is 'None'.It represents the absence of a value."
   ]
  },
  {
   "cell_type": "markdown",
   "id": "c712b454",
   "metadata": {},
   "source": [
    "## Q-9.How do you make a function variable refer to the global variable?"
   ]
  },
  {
   "cell_type": "markdown",
   "id": "a0e5056c",
   "metadata": {},
   "source": [
    "#### ANS-9\n",
    "\n",
    "    By using the 'global' keyword before variable name within a function we can make function variable refer to the global varaible."
   ]
  },
  {
   "cell_type": "code",
   "execution_count": 13,
   "id": "efc4c69f",
   "metadata": {},
   "outputs": [
    {
     "name": "stdout",
     "output_type": "stream",
     "text": [
      "12\n",
      "12\n"
     ]
    }
   ],
   "source": [
    "x= 10\n",
    "def A_function():\n",
    "    global x\n",
    "    x=x+2\n",
    "    print(x)\n",
    "\n",
    "A_function()  \n",
    "print(x)  \n"
   ]
  },
  {
   "cell_type": "markdown",
   "id": "98ad8e54",
   "metadata": {},
   "source": [
    "## Q-10. What is the data type of None?\n",
    "\n",
    "#### ANS-10\n",
    "\n",
    "    The data type of 'None' is NoneType. NoneType is a built-in type that has a single value, which is None.\n",
    "\n"
   ]
  },
  {
   "cell_type": "code",
   "execution_count": 16,
   "id": "03144a60",
   "metadata": {},
   "outputs": [
    {
     "name": "stdout",
     "output_type": "stream",
     "text": [
      "<class 'NoneType'>\n"
     ]
    }
   ],
   "source": [
    "X= None\n",
    "print(type(X))"
   ]
  },
  {
   "cell_type": "markdown",
   "id": "2598f126",
   "metadata": {},
   "source": [
    "## Q-11. What does the sentence import areallyourpetsnamederic do?\n",
    "\n",
    "#### ANS-11\n",
    "\n",
    "    This will import module or package named areallyourpetsnamederic,if it exist otherwise it will throw an error   \n",
    "    \"ModuleNotFoundError\""
   ]
  },
  {
   "cell_type": "code",
   "execution_count": 1,
   "id": "592a0a49",
   "metadata": {},
   "outputs": [
    {
     "ename": "ModuleNotFoundError",
     "evalue": "No module named 'areallyourpetsnamederic'",
     "output_type": "error",
     "traceback": [
      "\u001b[1;31m---------------------------------------------------------------------------\u001b[0m",
      "\u001b[1;31mModuleNotFoundError\u001b[0m                       Traceback (most recent call last)",
      "Input \u001b[1;32mIn [1]\u001b[0m, in \u001b[0;36m<cell line: 1>\u001b[1;34m()\u001b[0m\n\u001b[1;32m----> 1\u001b[0m \u001b[38;5;28;01mimport\u001b[39;00m \u001b[38;5;21;01mareallyourpetsnamederic\u001b[39;00m\n",
      "\u001b[1;31mModuleNotFoundError\u001b[0m: No module named 'areallyourpetsnamederic'"
     ]
    }
   ],
   "source": [
    "import areallyourpetsnamederic"
   ]
  },
  {
   "cell_type": "markdown",
   "id": "e1e78813",
   "metadata": {},
   "source": [
    "## Q-12. If you had a bacon() feature in a spam module, what would you call it after importing spam?\n",
    "\n",
    "#### ANS-12\n",
    "\n",
    "    A feature bacon() in a module spam can be called or accessed as,\n",
    "    \n",
    "    import spam\n",
    "    spam.bacon()\n",
    "    \n",
    "    This is called as executing or accessing bacon function from spam module.By calling spam.bacon(),the bacon() function from the spam module and perform the actions defined within that function."
   ]
  },
  {
   "cell_type": "markdown",
   "id": "85df879f",
   "metadata": {},
   "source": [
    "## Q-13.What can you do to save a programme from crashing if it encounters an error?"
   ]
  },
  {
   "cell_type": "markdown",
   "id": "e861afdc",
   "metadata": {},
   "source": [
    "### ANS-13\n",
    "\n",
    "    Exception handling techniques can be used to save a program from crashing if it encounters an error, exception handling catch and handle errors very effectively,\n",
    "    \n",
    "    try-except statement is implementend for exception handling. The code that might raise an error is placed within the try block, and any potential exceptions are caught and handled in the corresponding except block.\n",
    "    \n",
    "    \n",
    "    try:\n",
    "    #This is try block\n",
    "    # In this block we write codes that may cause error\n",
    "  \n",
    "    except ExceptionType:\n",
    "    # This is exception block \n",
    "    # Here we write Code to handle the exception\n",
    "    \n",
    "\n",
    "    \n",
    "    \n",
    "    \n",
    "    "
   ]
  },
  {
   "cell_type": "markdown",
   "id": "166769a8",
   "metadata": {},
   "source": [
    "## Q-14.What is the purpose of the try clause? What is the purpose of the except clause?"
   ]
  },
  {
   "cell_type": "markdown",
   "id": "857ec22c",
   "metadata": {},
   "source": [
    "#### ANS-14\n",
    "\n",
    "    The purpose of the try clause is to contain a block of code that may raise an exception. The code within the try block  is executed, and if an exception occurs during its execution, the flow of program is send to the corresponding except     block. It provides a mechanism to catch and handle these exceptions , preventing the program from crashing.\n",
    "    \n",
    "    The purpose of the except clause is to specify how the program should handle a particular exception that occurs within the associated try block.The except block is executed when an exception of the specified type is raised.Inside the except block, we include code that handles the exception, such as displaying an error message, logging the error.\n",
    "\n",
    "    Following is a small example using try clause and except clause:-"
   ]
  },
  {
   "cell_type": "markdown",
   "id": "94642cea",
   "metadata": {},
   "source": [
    "As we know ,we can't devide anything by zero,the following code gives a ZeroDivisionError"
   ]
  },
  {
   "cell_type": "code",
   "execution_count": 7,
   "id": "325f10a0",
   "metadata": {
    "scrolled": true
   },
   "outputs": [
    {
     "ename": "ZeroDivisionError",
     "evalue": "division by zero",
     "output_type": "error",
     "traceback": [
      "\u001b[1;31m---------------------------------------------------------------------------\u001b[0m",
      "\u001b[1;31mZeroDivisionError\u001b[0m                         Traceback (most recent call last)",
      "Input \u001b[1;32mIn [7]\u001b[0m, in \u001b[0;36m<cell line: 3>\u001b[1;34m()\u001b[0m\n\u001b[0;32m      1\u001b[0m numerator \u001b[38;5;241m=\u001b[39m \u001b[38;5;241m10\u001b[39m\n\u001b[0;32m      2\u001b[0m denominator \u001b[38;5;241m=\u001b[39m \u001b[38;5;241m0\u001b[39m\n\u001b[1;32m----> 3\u001b[0m result \u001b[38;5;241m=\u001b[39m \u001b[43mnumerator\u001b[49m\u001b[43m \u001b[49m\u001b[38;5;241;43m/\u001b[39;49m\u001b[43m \u001b[49m\u001b[43mdenominator\u001b[49m\n\u001b[0;32m      4\u001b[0m \u001b[38;5;28mprint\u001b[39m(\u001b[38;5;124m\"\u001b[39m\u001b[38;5;124mResult:\u001b[39m\u001b[38;5;124m\"\u001b[39m, result)\n",
      "\u001b[1;31mZeroDivisionError\u001b[0m: division by zero"
     ]
    }
   ],
   "source": [
    "numerator = 10\n",
    "denominator = 0\n",
    "result = numerator / denominator\n",
    "print(\"Result:\", result)"
   ]
  },
  {
   "cell_type": "markdown",
   "id": "0078b33f",
   "metadata": {},
   "source": [
    "#### To handle the ZeroDivisionError, we use try-except block like this,"
   ]
  },
  {
   "cell_type": "code",
   "execution_count": 8,
   "id": "63709403",
   "metadata": {},
   "outputs": [
    {
     "name": "stdout",
     "output_type": "stream",
     "text": [
      "Error: Division by zero occurred\n"
     ]
    }
   ],
   "source": [
    "try:\n",
    "    numerator = 10\n",
    "    denominator = 0\n",
    "    result = numerator / denominator\n",
    "    print(\"Result:\", result)\n",
    "except ZeroDivisionError:\n",
    "    print(\"Error: Division by zero occurred\")\n"
   ]
  },
  {
   "cell_type": "markdown",
   "id": "53d04cf1",
   "metadata": {},
   "source": [
    "# THANK YOU"
   ]
  },
  {
   "cell_type": "code",
   "execution_count": null,
   "id": "08a672e2",
   "metadata": {},
   "outputs": [],
   "source": []
  }
 ],
 "metadata": {
  "kernelspec": {
   "display_name": "Python 3 (ipykernel)",
   "language": "python",
   "name": "python3"
  },
  "language_info": {
   "codemirror_mode": {
    "name": "ipython",
    "version": 3
   },
   "file_extension": ".py",
   "mimetype": "text/x-python",
   "name": "python",
   "nbconvert_exporter": "python",
   "pygments_lexer": "ipython3",
   "version": "3.9.12"
  }
 },
 "nbformat": 4,
 "nbformat_minor": 5
}
