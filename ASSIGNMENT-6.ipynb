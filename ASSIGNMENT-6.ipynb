{
 "cells": [
  {
   "cell_type": "markdown",
   "id": "b7231afa",
   "metadata": {},
   "source": [
    "# ASSIGNMENT-6\n",
    "## Q-1.What are keywords in python? Using the keyword library, print all the python keywords.\n",
    "\n",
    "#### ANS-6\n",
    "    \n",
    "    Keywords are reserved words that have predefined meanings and cannot be used as identifiers (e.g., variable names or function names) .keywords are used to define the structure and logic of the program.\n",
    "    \n",
    "    Keywords are immutable. This means their meaning and definition can't be altered.\n",
    "    \n",
    "    Keywords are case-sensitive. For example, True is a valid keyword, but true is not.\n",
    "    \n",
    "    As of Python 3.9, there are 35 keywords."
   ]
  },
  {
   "cell_type": "code",
   "execution_count": 14,
   "id": "e3557dc3",
   "metadata": {},
   "outputs": [
    {
     "name": "stdout",
     "output_type": "stream",
     "text": [
      "['False', 'None', 'True', '__peg_parser__', 'and', 'as', 'assert', 'async', 'await', 'break', 'class', 'continue', 'def', 'del', 'elif', 'else', 'except', 'finally', 'for', 'from', 'global', 'if', 'import', 'in', 'is', 'lambda', 'nonlocal', 'not', 'or', 'pass', 'raise', 'return', 'try', 'while', 'with', 'yield']\n"
     ]
    }
   ],
   "source": [
    "import keyword\n",
    "\n",
    "keyword.kwlist\n",
    "print(keyword.kwlist)\n"
   ]
  },
  {
   "cell_type": "markdown",
   "id": "00021f14",
   "metadata": {},
   "source": [
    "## Q-2. What are the rules to create variables in python?\n",
    "\n",
    "#### ANS-2\n",
    "\n",
    "    Variable names can consist of letters (both uppercase and lowercase), digits, and underscores (_).\n",
    "    \n",
    "    They must start with a letter or an underscore, but not with a digit.\n",
    "    \n",
    "    valid variables:-\n",
    " "
   ]
  },
  {
   "cell_type": "code",
   "execution_count": 2,
   "id": "0f1be56e",
   "metadata": {},
   "outputs": [],
   "source": [
    "Valid_var=787\n",
    "list_3=[1,3]\n",
    "_intege=33"
   ]
  },
  {
   "cell_type": "markdown",
   "id": "a8536375",
   "metadata": {},
   "source": [
    "    Invalid variable:-"
   ]
  },
  {
   "cell_type": "code",
   "execution_count": 4,
   "id": "b458d4d9",
   "metadata": {},
   "outputs": [
    {
     "ename": "SyntaxError",
     "evalue": "invalid decimal literal (3931093238.py, line 1)",
     "output_type": "error",
     "traceback": [
      "\u001b[1;36m  Input \u001b[1;32mIn [4]\u001b[1;36m\u001b[0m\n\u001b[1;33m    1_anya=10\u001b[0m\n\u001b[1;37m     ^\u001b[0m\n\u001b[1;31mSyntaxError\u001b[0m\u001b[1;31m:\u001b[0m invalid decimal literal\n"
     ]
    }
   ],
   "source": [
    "1_anya=10"
   ]
  },
  {
   "cell_type": "markdown",
   "id": "a3718e41",
   "metadata": {},
   "source": [
    "## Q-3.What are the standards and conventions followed for the nomenclature of variables in python to improve code readability and maintainability?\n",
    "\n",
    "#### ANS-3\n",
    "\n",
    "    Following are standards and conventions followed for nomenclature:-\n",
    "    \n",
    "    a.Use lowercase letters and separate words with underscores (snake_case) for variable names. For example: my_variable,           total_count, user_name.\n",
    "    \n",
    "    b.Choose meaningful and descriptive variable names that convey the purpose or content of the variable. Use names that    are easy to understand and provide clarity to readers. Examples include customer_name, total_sales, is_active.\n",
    "    \n",
    "    c.Avoid using single-character names or cryptic abbreviations that may make the code harder to understand.\n",
    "    \n",
    "    d.Do not use Python reserved keywords as variable names, as they have special meanings in the language.\n",
    "    \n",
    "    e.Maintain consistent naming conventions throughout the codebase. Follow the same naming style and conventions for variables in all parts of code.\n",
    "    "
   ]
  },
  {
   "cell_type": "markdown",
   "id": "2f63f648",
   "metadata": {},
   "source": [
    "## Q-4. What will happen if a keyword is used as a variable name?\n",
    "\n",
    "#### ANS-4\n",
    "\n",
    "    It will throw SyntaxError when keyword will be used as variable name.\n",
    "    \n",
    "    like,"
   ]
  },
  {
   "cell_type": "code",
   "execution_count": 6,
   "id": "13e4bde0",
   "metadata": {},
   "outputs": [
    {
     "ename": "SyntaxError",
     "evalue": "cannot assign to None (1912000551.py, line 1)",
     "output_type": "error",
     "traceback": [
      "\u001b[1;36m  Input \u001b[1;32mIn [6]\u001b[1;36m\u001b[0m\n\u001b[1;33m    None =30\u001b[0m\n\u001b[1;37m    ^\u001b[0m\n\u001b[1;31mSyntaxError\u001b[0m\u001b[1;31m:\u001b[0m cannot assign to None\n"
     ]
    }
   ],
   "source": [
    "None =30"
   ]
  },
  {
   "cell_type": "markdown",
   "id": "d7991a5a",
   "metadata": {},
   "source": [
    "## Q.5. For what purpose def keyword is used?\n",
    "\n",
    "#### ANS-5\n",
    "\n",
    "    The def keyword is used to define a function.\n",
    "    It is followed by the function name, a pair of parentheses (), and a colon :\n",
    "    \n",
    "    like,"
   ]
  },
  {
   "cell_type": "code",
   "execution_count": 10,
   "id": "387490d2",
   "metadata": {},
   "outputs": [],
   "source": [
    "def the_function_name():\n",
    "    name=Abhishek\n",
    "    print(name)\n",
    "    #codes to create function\\\n",
    "    #..."
   ]
  },
  {
   "cell_type": "markdown",
   "id": "4a79a58e",
   "metadata": {},
   "source": [
    "## Q-6. What is the operation of this special character ‘\\’?\n",
    "\n",
    "#### ANS-6\n",
    "\n",
    "    The special character \\ in Python is known as the backslash. It serves as an escape character and is used to include special characters within strings or to create certain types of character sequences. \n",
    "    \n",
    "    \n",
    "    Used for :-\n",
    "    Escape Sequences: The backslash is used to represent special characters within strings, such as newline (\\n), tab (\\t), backspace (\\b).\n",
    "    \n",
    "    "
   ]
  },
  {
   "cell_type": "code",
   "execution_count": 13,
   "id": "3f68260a",
   "metadata": {},
   "outputs": [
    {
     "name": "stdout",
     "output_type": "stream",
     "text": [
      "hello!\n",
      "ineuron\n"
     ]
    }
   ],
   "source": [
    "print('hello!\\nineuron') #prints hello and ineuron in different lines"
   ]
  },
  {
   "cell_type": "markdown",
   "id": "d05fb57d",
   "metadata": {},
   "source": [
    "    Escaping Quotes:The backslash can be used to include quotes within a string that uses the same type of quote. For example, to include a single quote within a single-quoted string, you can use \\', and to include a double quote within a double-quoted string, you can use \\\".\n",
    "\n",
    "    Unicode Characters: The backslash is used to represent Unicode characters using escape sequences. For example, \\u followed by four hexadecimal digits represents a Unicode character. For instance, \\u00E9 represents the Unicode character \"é\".\n",
    "\n",
    "    Raw Strings: The backslash can also be used to create raw strings by prefixing the string with r. In a raw string, the backslash is treated as a literal character rather than an escape character. For example, r\"C:\\Users\\Username\" will treat the backslashes as regular characters"
   ]
  },
  {
   "cell_type": "markdown",
   "id": "0733d92f",
   "metadata": {},
   "source": [
    "## Q-7. Give an example of the following conditions:\n",
    "(i) Homogeneous list\n",
    "\n",
    "(ii) Heterogeneous set\n",
    "\n",
    "(iii) Homogeneous tuple"
   ]
  },
  {
   "cell_type": "markdown",
   "id": "f47a7fa9",
   "metadata": {},
   "source": [
    "#### ANS-7\n",
    "\n",
    "    (i) Homogeneous list:\n",
    "    A homogeneous list is a list that contains elements of the same data type.\n",
    "    \n",
    "    Like,\n"
   ]
  },
  {
   "cell_type": "code",
   "execution_count": 15,
   "id": "7869c371",
   "metadata": {},
   "outputs": [],
   "source": [
    "list_4=[1,2,3,4,5]"
   ]
  },
  {
   "cell_type": "markdown",
   "id": "e1136578",
   "metadata": {},
   "source": [
    "    (ii) Heterogeneous set:\n",
    "    A heterogeneous set is a set that contains elements of different data types.\n",
    "\n",
    "    Like,\n"
   ]
  },
  {
   "cell_type": "code",
   "execution_count": 16,
   "id": "a3b66bc5",
   "metadata": {},
   "outputs": [],
   "source": [
    "my_set = {'hello',1, 6.83, None}"
   ]
  },
  {
   "cell_type": "markdown",
   "id": "e7978cd5",
   "metadata": {},
   "source": [
    "    (iii) Homogeneous tuple:\n",
    "    A homogeneous tuple is a tuple that contains elements of the same data type.\n",
    "    \n",
    "    Like,"
   ]
  },
  {
   "cell_type": "code",
   "execution_count": 17,
   "id": "500a1be7",
   "metadata": {},
   "outputs": [],
   "source": [
    "fruits = ('apple', 'banana', 'orange', 'mango')"
   ]
  },
  {
   "cell_type": "markdown",
   "id": "6008f689",
   "metadata": {},
   "source": [
    "## Q-8. Explain the mutable and immutable data types with proper explanation & examples.\n",
    "\n",
    "#### ANS-8\n",
    "\n",
    "#### Mutable data types\n",
    "\n",
    "    Mutable data types are those whose values can be modified after they are created, modifying a mutable object means, changing its contents in-place without creating a new object.\n",
    "    \n",
    "    Examples of mutable data types are:-\n",
    "    \n",
    "    list:-Lists are ordered collections of elements that can be modified by adding, removing, or modifying elements.\n",
    "    \n",
    "    Dictionaries:- They are key-value pairs where values can be modified by assigning new values to existing keys.\n",
    "    \n",
    "    Sets:- Sets are unordered collections of unique elements that can be modified by adding or removing elements."
   ]
  },
  {
   "cell_type": "markdown",
   "id": "7c8eccdb",
   "metadata": {},
   "source": [
    "    Modifying a list,"
   ]
  },
  {
   "cell_type": "code",
   "execution_count": 19,
   "id": "2e37a037",
   "metadata": {},
   "outputs": [
    {
     "data": {
      "text/plain": [
       "[1, 2, 3, 4]"
      ]
     },
     "execution_count": 19,
     "metadata": {},
     "output_type": "execute_result"
    }
   ],
   "source": [
    "a_list = [1, 2, 3]\n",
    "a_list.append(4)  # Modifying the list by adding an element\n",
    "a_list"
   ]
  },
  {
   "cell_type": "markdown",
   "id": "936a3d65",
   "metadata": {},
   "source": [
    "    Modifying a dictionary,"
   ]
  },
  {
   "cell_type": "code",
   "execution_count": 20,
   "id": "b7a94ceb",
   "metadata": {},
   "outputs": [
    {
     "data": {
      "text/plain": [
       "{'name': 'John', 'age': 26}"
      ]
     },
     "execution_count": 20,
     "metadata": {},
     "output_type": "execute_result"
    }
   ],
   "source": [
    "a_dict = {'name': 'John', 'age': 25}\n",
    "a_dict['age'] = 26  # Modifying the value of an existing key\n",
    "a_dict"
   ]
  },
  {
   "cell_type": "markdown",
   "id": "0d92afd5",
   "metadata": {},
   "source": [
    "    Modifying a set,"
   ]
  },
  {
   "cell_type": "code",
   "execution_count": 21,
   "id": "8bc7060c",
   "metadata": {},
   "outputs": [
    {
     "data": {
      "text/plain": [
       "{1, 2, 3, 4}"
      ]
     },
     "execution_count": 21,
     "metadata": {},
     "output_type": "execute_result"
    }
   ],
   "source": [
    "a_set = {1, 2, 3}\n",
    "a_set.add(4)  # Modifying the set by adding an element\n",
    "a_set"
   ]
  },
  {
   "cell_type": "markdown",
   "id": "fe7b07ad",
   "metadata": {},
   "source": [
    "#### Immutable Data Types:\n",
    "    Immutable data types are those whose values cannot be modified after they are created. If you want to modify an immutable object, you need to create a new object with the modified value. \n",
    "\n",
    "    Examples of immutable data types are:-\n",
    "    \n",
    "    Strings:- Strings are sequences of characters that cannot be modified once created. Any operation that appears to modify a string actually creates a new string\n",
    "    \n",
    "    Tuples:-: Tuples are ordered collections of elements that cannot be modified once created. Any attempt to modify a tuple will result in an error.\n",
    "    \n",
    "    "
   ]
  },
  {
   "cell_type": "markdown",
   "id": "473a31bc",
   "metadata": {},
   "source": [
    "    Modifying a tuple\n",
    "    "
   ]
  },
  {
   "cell_type": "code",
   "execution_count": 22,
   "id": "84a9a9e7",
   "metadata": {},
   "outputs": [
    {
     "ename": "TypeError",
     "evalue": "'tuple' object does not support item assignment",
     "output_type": "error",
     "traceback": [
      "\u001b[1;31m---------------------------------------------------------------------------\u001b[0m",
      "\u001b[1;31mTypeError\u001b[0m                                 Traceback (most recent call last)",
      "Input \u001b[1;32mIn [22]\u001b[0m, in \u001b[0;36m<cell line: 2>\u001b[1;34m()\u001b[0m\n\u001b[0;32m      1\u001b[0m a_tuple\u001b[38;5;241m=\u001b[39m(\u001b[38;5;241m1\u001b[39m,\u001b[38;5;241m2\u001b[39m,\u001b[38;5;241m3\u001b[39m,\u001b[38;5;241m4\u001b[39m,\u001b[38;5;241m5\u001b[39m)\n\u001b[1;32m----> 2\u001b[0m a_tuple[\u001b[38;5;241m5\u001b[39m]\u001b[38;5;241m=\u001b[39m\u001b[38;5;241m6\u001b[39m\n",
      "\u001b[1;31mTypeError\u001b[0m: 'tuple' object does not support item assignment"
     ]
    }
   ],
   "source": [
    "a_tuple=(1,2,3,4,5)\n",
    "a_tuple[5]=6"
   ]
  },
  {
   "cell_type": "markdown",
   "id": "75becfe2",
   "metadata": {},
   "source": [
    "## Q.9. Write a code to create the given structure using only for loop.\n",
    "\n",
    "        *\n",
    "       ***\n",
    "      *****\n",
    "     *******\n",
    "    *********"
   ]
  },
  {
   "cell_type": "markdown",
   "id": "eee4685f",
   "metadata": {},
   "source": [
    "#### ANS-9\n"
   ]
  },
  {
   "cell_type": "code",
   "execution_count": 23,
   "id": "157f4bac",
   "metadata": {},
   "outputs": [
    {
     "name": "stdout",
     "output_type": "stream",
     "text": [
      "    *\n",
      "   ***\n",
      "  *****\n",
      " *******\n",
      "*********\n"
     ]
    }
   ],
   "source": [
    "rows = 5\n",
    "\n",
    "for i in range(rows):\n",
    "    for j in range(rows - i - 1):\n",
    "        print(\" \", end=\"\")\n",
    "    \n",
    "    for k in range(2 * i + 1):\n",
    "        print(\"*\", end=\"\")\n",
    "    \n",
    "    print()\n"
   ]
  },
  {
   "cell_type": "markdown",
   "id": "4ac30238",
   "metadata": {},
   "source": [
    "## Q.10. Write a code to create the given structure using while loop.\n",
    "    |||||||||\n",
    "     |||||||\n",
    "      |||||\n",
    "       |||\n",
    "        |"
   ]
  },
  {
   "cell_type": "markdown",
   "id": "46440a01",
   "metadata": {},
   "source": [
    "#### ANS-10\n"
   ]
  },
  {
   "cell_type": "code",
   "execution_count": 28,
   "id": "a41c593f",
   "metadata": {},
   "outputs": [
    {
     "name": "stdout",
     "output_type": "stream",
     "text": [
      "|||||||||\n",
      " |||||||\n",
      "  |||||\n",
      "   |||\n",
      "    |\n"
     ]
    }
   ],
   "source": [
    "rows = 5\n",
    "spaces = 0\n",
    "line= rows * 2 - 1\n",
    "\n",
    "while rows > 0:\n",
    "    print(\" \" * spaces + \"|\" * line)\n",
    "    spaces += 1\n",
    "    line-= 2\n",
    "    rows -= 1"
   ]
  },
  {
   "cell_type": "markdown",
   "id": "487ccdc4",
   "metadata": {},
   "source": [
    "# THANK YOU!"
   ]
  },
  {
   "cell_type": "code",
   "execution_count": null,
   "id": "6a9acd8f",
   "metadata": {},
   "outputs": [],
   "source": []
  }
 ],
 "metadata": {
  "kernelspec": {
   "display_name": "Python 3 (ipykernel)",
   "language": "python",
   "name": "python3"
  },
  "language_info": {
   "codemirror_mode": {
    "name": "ipython",
    "version": 3
   },
   "file_extension": ".py",
   "mimetype": "text/x-python",
   "name": "python",
   "nbconvert_exporter": "python",
   "pygments_lexer": "ipython3",
   "version": "3.9.12"
  }
 },
 "nbformat": 4,
 "nbformat_minor": 5
}
